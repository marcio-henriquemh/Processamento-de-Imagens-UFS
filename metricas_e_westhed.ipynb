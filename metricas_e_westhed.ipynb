{
  "nbformat": 4,
  "nbformat_minor": 0,
  "metadata": {
    "colab": {
      "provenance": []
    },
    "kernelspec": {
      "name": "python3",
      "display_name": "Python 3"
    },
    "language_info": {
      "name": "python"
    }
  },
  "cells": [
    {
      "cell_type": "markdown",
      "source": [
        "#Bibliotecas"
      ],
      "metadata": {
        "id": "t5sal1CdqWsj"
      }
    },
    {
      "cell_type": "code",
      "execution_count": 1,
      "metadata": {
        "id": "pmtk-LhQDDLC"
      },
      "outputs": [],
      "source": [
        "import cv2\n",
        "import numpy as np\n",
        "import os\n",
        "from sklearn.preprocessing import MultiLabelBinarizer\n",
        "from sklearn.metrics import precision_score, recall_score, jaccard_score,f1_score\n",
        "from skimage import io, segmentation, measure, filters\n",
        "from skimage.color import label2rgb\n",
        "import pandas as pd\n",
        "from skimage.feature import canny\n",
        "from skimage.transform import hough_line\n",
        "from skimage import metrics\n",
        "from sklearn.metrics import precision_score\n",
        "\n",
        "\n"
      ]
    },
    {
      "cell_type": "markdown",
      "source": [
        "#Diretório das imagens processadas"
      ],
      "metadata": {
        "id": "lQvXKB1yqlSt"
      }
    },
    {
      "cell_type": "code",
      "source": [
        "imagens_dataset_entrada='/content/drive/MyDrive/Projeto_final/dataset/saida_imagens_cinza_sobel'\n",
        "imagens_dataset_saida='/content/drive/MyDrive/Projeto_final/dataset/Resultado_Metricas'"
      ],
      "metadata": {
        "id": "j0LXcVBpqkZR"
      },
      "execution_count": 2,
      "outputs": []
    },
    {
      "cell_type": "markdown",
      "source": [],
      "metadata": {
        "id": "DWlEQQ7dyeIi"
      }
    },
    {
      "cell_type": "code",
      "source": [
        "\n",
        "\n",
        "# Lista para armazenar as métricas de cada imagem\n",
        "df_metricas = pd.DataFrame(columns=['Precisão', 'Recall', 'YoU','F1-Score'])\n",
        "\n",
        "if not os.path.exists(imagens_dataset_saida):\n",
        "    os.makedirs(imagens_dataset_saida)\n",
        "\n",
        "for nome_imagem in os.listdir(imagens_dataset_entrada):\n",
        "    # Verifica se o arquivo é uma imagem\n",
        "    if nome_imagem.endswith(\".jpg\") or nome_imagem.endswith(\".jpeg\") or nome_imagem.endswith(\".png\"):\n",
        "        # Carrega a imagem em escala de cinza\n",
        "        imagem = io.imread(os.path.join(imagens_dataset_entrada, nome_imagem), as_gray=True)\n",
        "        \n",
        "        # Binariza a imagem com método de Otsu\n",
        "        # Obtém o limiar com a função threshold_otsu\n",
        "        limiar_otsu = filters.threshold_otsu(imagem)\n",
        "\n",
        "        # Cria um array com o mesmo valor do limiar\n",
        "        limiar_array = np.full(imagem.shape, limiar_otsu)\n",
        "\n",
        "        # Binariza a imagem utilizando o array de limiar\n",
        "        imagem_binarizada = imagem > limiar_array\n",
        "\n",
        "        \n",
        "        \n",
        "        # Segmentação da imagem usando o filtro Sobel e o algoritmo de watershed\n",
        "        marcadores = filters.sobel(imagem_binarizada)\n",
        "        segmentacao = segmentation.watershed(marcadores, markers=None, mask=imagem_binarizada)\n",
        "\n",
        "        # Criação dos rótulos verdadeiros\n",
        "        rotulos_preditos, rotulos_verdadeiros = measure.label(segmentacao, return_num=True)\n",
        "\n",
        "                  \n",
        "\n",
        "        # Calcula as métricas de avaliação de segmentação\n",
        "        rotulos_verdadeiros = io.imread(os.path.join(imagens_dataset_entrada, nome_imagem), as_gray=True)\n",
        "        rotulos_verdadeiros = measure.label(rotulos_verdadeiros)\n",
        "        rotulos_preditos = measure.label(segmentacao)\n",
        "      \n",
        "\n",
        "        #matriz de YoU\n",
        "        YoU_matriz=jaccard_score(rotulos_verdadeiros.ravel(),rotulos_preditos.ravel(),average=None)\n",
        "        #selecionar apenas pares com YoU maior que 50\n",
        "\n",
        "        indice_achado=np.where(YoU_matriz >0.5)[0]\n",
        "        rotulos_verdadeiros_bin_achados=rotulos_verdadeiros[:,indice_achado]\n",
        "        rotulos_preditos_bin_achados=rotulos_preditos[:,indice_achado]\n",
        "\n",
        "        # Converter as labels para o formato binário\n",
        "        mlb = MultiLabelBinarizer()\n",
        "        rotulos_verdadeiros_bin_achados = mlb.fit_transform(rotulos_verdadeiros_bin_achados)\n",
        "        rotulos_preditos_bin_achados = mlb.transform(rotulos_preditos_bin_achados)\n",
        "        # Verifica se há valores desconhecidos\n",
        "        nan_valores = np.isnan(rotulos_verdadeiros_bin_achados).any() or np.isnan(rotulos_preditos_bin_achados).any()\n",
        "\n",
        "        if nan_valores:\n",
        "          # Remove valores desconhecidos\n",
        "          rotulos_verdadeiros_bin_achados = np.nan_to_num(rotulos_verdadeiros_bin_achados)\n",
        "          rotulos_preditos_bin_achados = np.nan_to_num(rotulos_preditos_bin_achados)\n",
        "\n",
        "\n",
        "      # Calcular as métricas utilizando as labels binárias\n",
        "        precisao = precision_score(rotulos_verdadeiros_bin_achados, rotulos_preditos_bin_achados, average='weighted',zero_division=0)\n",
        "        reca = recall_score(rotulos_verdadeiros_bin_achados, rotulos_preditos_bin_achados, average='weighted',zero_division=0)\n",
        "        iou = jaccard_score(rotulos_verdadeiros_bin_achados, rotulos_preditos_bin_achados, average='weighted', zero_division=0)\n",
        "        f1_s = f1_score(rotulos_verdadeiros_bin_achados, rotulos_preditos_bin_achados, average='weighted', zero_division=0)\n",
        "\n",
        "        # Salva a imagem de saída com a segmentação aplicada\n",
        "        #segmentacao = segmentacao.astype('float32')\n",
        "        #segmentacao = (segmentacao * 255).astype(np.uint8)\n",
        "\n",
        "        io.imsave(os.path.join(imagens_dataset_saida, nome_imagem), (label2rgb(segmentacao) * 255).astype(np.uint8))\n",
        "\n",
        "    # Adiciona as métricas da imagem ao DataFrame\n",
        "\n",
        "        # Adiciona as métricas da imagem ao DataFrame\n",
        "        #df_metricas.loc[nome_imagem] = [precisao, reca, iou]\n",
        "        df_metricas = df_metricas.append({'Imagem': nome_imagem, 'Precisão': precisao, 'Recall': reca, 'YoU': iou,'F1_score':f1_s}, ignore_index=True)\n",
        "\n",
        "\n",
        "\n",
        "\n",
        "\n",
        "        print(f\"Imagem: {nome_imagem}\")\n",
        "        print(f\"Precisão: {precisao:.2f}\")\n",
        "        print(f\"Recall: {reca:.2f}\")\n",
        "        print(f\"YOU: {iou:.2f}\")\n",
        "        print(f\"F1_score: {f1_s:.2f}\")\n",
        "# Calcula as médias das métricas de todas as imagens\n",
        "\n",
        "\n",
        "medias_metricas = df_metricas.mean()\n",
        "\n",
        "\n",
        "\n",
        "# Exibe as métricas médias\n",
        "print('Métricas médias:')\n",
        "print('-----------------')\n",
        "print(f\"Precisão: {medias_metricas['Precisão']:.2f}\")\n",
        "print(f\"Revocação: {medias_metricas['Recall']:.2f}\")\n",
        "print(f\"YoU: {medias_metricas['YoU']:.2f}\")\n",
        "print(f\"F1_score: {medias_metricas['F1_score']:.2f}\")\n",
        "print(type(imagem_binarizada))\n",
        "        "
      ],
      "metadata": {
        "id": "tLp82z0RoKS6",
        "colab": {
          "base_uri": "https://localhost:8080/"
        },
        "outputId": "663d8677-0778-449b-f714-5134dfe544dd"
      },
      "execution_count": 3,
      "outputs": [
        {
          "output_type": "stream",
          "name": "stderr",
          "text": [
            "/usr/local/lib/python3.10/dist-packages/sklearn/preprocessing/_label.py:895: UserWarning: unknown class(es) [106, 212, 221, 223, 279, 288, 348, 352, 399, 402, 403, 409, 413, 419, 421, 424, 438, 446, 482, 489, 49, 504, 517, 523, 542, 557, 581, 585, 59, 593, 625, 638, 711, 74, 745, 760, 85, 99] will be ignored\n",
            "  warnings.warn(\n",
            "<ipython-input-3-800ca82d1755>:77: FutureWarning: The frame.append method is deprecated and will be removed from pandas in a future version. Use pandas.concat instead.\n",
            "  df_metricas = df_metricas.append({'Imagem': nome_imagem, 'Precisão': precisao, 'Recall': reca, 'YoU': iou,'F1_score':f1_s}, ignore_index=True)\n"
          ]
        },
        {
          "output_type": "stream",
          "name": "stdout",
          "text": [
            "Imagem: image-46_sobel.png\n",
            "Precisão: 0.68\n",
            "Recall: 0.68\n",
            "YOU: 0.68\n",
            "F1_score: 0.68\n"
          ]
        },
        {
          "output_type": "stream",
          "name": "stderr",
          "text": [
            "/usr/local/lib/python3.10/dist-packages/sklearn/preprocessing/_label.py:895: UserWarning: unknown class(es) [131, 391, 401] will be ignored\n",
            "  warnings.warn(\n",
            "<ipython-input-3-800ca82d1755>:77: FutureWarning: The frame.append method is deprecated and will be removed from pandas in a future version. Use pandas.concat instead.\n",
            "  df_metricas = df_metricas.append({'Imagem': nome_imagem, 'Precisão': precisao, 'Recall': reca, 'YoU': iou,'F1_score':f1_s}, ignore_index=True)\n"
          ]
        },
        {
          "output_type": "stream",
          "name": "stdout",
          "text": [
            "Imagem: image-93_sobel.png\n",
            "Precisão: 0.94\n",
            "Recall: 0.94\n",
            "YOU: 0.94\n",
            "F1_score: 0.94\n"
          ]
        },
        {
          "output_type": "stream",
          "name": "stderr",
          "text": [
            "/usr/local/lib/python3.10/dist-packages/sklearn/preprocessing/_label.py:895: UserWarning: unknown class(es) [107, 19, 440, 460, 62, 68, 787] will be ignored\n",
            "  warnings.warn(\n",
            "<ipython-input-3-800ca82d1755>:77: FutureWarning: The frame.append method is deprecated and will be removed from pandas in a future version. Use pandas.concat instead.\n",
            "  df_metricas = df_metricas.append({'Imagem': nome_imagem, 'Precisão': precisao, 'Recall': reca, 'YoU': iou,'F1_score':f1_s}, ignore_index=True)\n"
          ]
        },
        {
          "output_type": "stream",
          "name": "stdout",
          "text": [
            "Imagem: image-10_sobel.png\n",
            "Precisão: 0.94\n",
            "Recall: 0.93\n",
            "YOU: 0.93\n",
            "F1_score: 0.93\n"
          ]
        },
        {
          "output_type": "stream",
          "name": "stderr",
          "text": [
            "/usr/local/lib/python3.10/dist-packages/sklearn/preprocessing/_label.py:895: UserWarning: unknown class(es) [10, 280, 289, 297, 309, 363, 37, 380, 432, 448, 93] will be ignored\n",
            "  warnings.warn(\n",
            "<ipython-input-3-800ca82d1755>:77: FutureWarning: The frame.append method is deprecated and will be removed from pandas in a future version. Use pandas.concat instead.\n",
            "  df_metricas = df_metricas.append({'Imagem': nome_imagem, 'Precisão': precisao, 'Recall': reca, 'YoU': iou,'F1_score':f1_s}, ignore_index=True)\n"
          ]
        },
        {
          "output_type": "stream",
          "name": "stdout",
          "text": [
            "Imagem: image-88_sobel.png\n",
            "Precisão: 0.88\n",
            "Recall: 0.88\n",
            "YOU: 0.88\n",
            "F1_score: 0.88\n"
          ]
        },
        {
          "output_type": "stream",
          "name": "stderr",
          "text": [
            "/usr/local/lib/python3.10/dist-packages/sklearn/preprocessing/_label.py:895: UserWarning: unknown class(es) [156, 264, 345, 352, 374, 376, 430, 496, 512, 520, 564, 601] will be ignored\n",
            "  warnings.warn(\n",
            "<ipython-input-3-800ca82d1755>:77: FutureWarning: The frame.append method is deprecated and will be removed from pandas in a future version. Use pandas.concat instead.\n",
            "  df_metricas = df_metricas.append({'Imagem': nome_imagem, 'Precisão': precisao, 'Recall': reca, 'YoU': iou,'F1_score':f1_s}, ignore_index=True)\n"
          ]
        },
        {
          "output_type": "stream",
          "name": "stdout",
          "text": [
            "Imagem: image-64_sobel.png\n",
            "Precisão: 0.89\n",
            "Recall: 0.89\n",
            "YOU: 0.89\n",
            "F1_score: 0.89\n"
          ]
        },
        {
          "output_type": "stream",
          "name": "stderr",
          "text": [
            "/usr/local/lib/python3.10/dist-packages/sklearn/preprocessing/_label.py:895: UserWarning: unknown class(es) [13, 159, 247, 329, 33, 351, 474, 48, 522, 537, 547, 560, 568, 612, 620, 628, 76, 77, 94] will be ignored\n",
            "  warnings.warn(\n",
            "<ipython-input-3-800ca82d1755>:77: FutureWarning: The frame.append method is deprecated and will be removed from pandas in a future version. Use pandas.concat instead.\n",
            "  df_metricas = df_metricas.append({'Imagem': nome_imagem, 'Precisão': precisao, 'Recall': reca, 'YoU': iou,'F1_score':f1_s}, ignore_index=True)\n",
            "<ipython-input-3-800ca82d1755>:77: FutureWarning: The frame.append method is deprecated and will be removed from pandas in a future version. Use pandas.concat instead.\n",
            "  df_metricas = df_metricas.append({'Imagem': nome_imagem, 'Precisão': precisao, 'Recall': reca, 'YoU': iou,'F1_score':f1_s}, ignore_index=True)\n"
          ]
        },
        {
          "output_type": "stream",
          "name": "stdout",
          "text": [
            "Imagem: image-71_sobel.png\n",
            "Precisão: 0.83\n",
            "Recall: 0.83\n",
            "YOU: 0.83\n",
            "F1_score: 0.83\n",
            "Imagem: image-85_sobel.png\n",
            "Precisão: 1.00\n",
            "Recall: 1.00\n",
            "YOU: 1.00\n",
            "F1_score: 1.00\n"
          ]
        },
        {
          "output_type": "stream",
          "name": "stderr",
          "text": [
            "/usr/local/lib/python3.10/dist-packages/sklearn/preprocessing/_label.py:895: UserWarning: unknown class(es) [152, 153, 216, 225, 235, 242, 246, 258, 259, 28, 29, 293, 298, 304, 307, 346, 358, 366, 382, 389, 424, 427, 429, 430, 448, 453] will be ignored\n",
            "  warnings.warn(\n",
            "<ipython-input-3-800ca82d1755>:77: FutureWarning: The frame.append method is deprecated and will be removed from pandas in a future version. Use pandas.concat instead.\n",
            "  df_metricas = df_metricas.append({'Imagem': nome_imagem, 'Precisão': precisao, 'Recall': reca, 'YoU': iou,'F1_score':f1_s}, ignore_index=True)\n"
          ]
        },
        {
          "output_type": "stream",
          "name": "stdout",
          "text": [
            "Imagem: image-21_sobel.png\n",
            "Precisão: 0.76\n",
            "Recall: 0.76\n",
            "YOU: 0.76\n",
            "F1_score: 0.76\n"
          ]
        },
        {
          "output_type": "stream",
          "name": "stderr",
          "text": [
            "/usr/local/lib/python3.10/dist-packages/sklearn/preprocessing/_label.py:895: UserWarning: unknown class(es) [127, 161, 169, 191, 215, 240, 272, 280, 331, 437, 462] will be ignored\n",
            "  warnings.warn(\n",
            "<ipython-input-3-800ca82d1755>:77: FutureWarning: The frame.append method is deprecated and will be removed from pandas in a future version. Use pandas.concat instead.\n",
            "  df_metricas = df_metricas.append({'Imagem': nome_imagem, 'Precisão': precisao, 'Recall': reca, 'YoU': iou,'F1_score':f1_s}, ignore_index=True)\n"
          ]
        },
        {
          "output_type": "stream",
          "name": "stdout",
          "text": [
            "Imagem: image-117_sobel.png\n",
            "Precisão: 0.89\n",
            "Recall: 0.89\n",
            "YOU: 0.89\n",
            "F1_score: 0.89\n"
          ]
        },
        {
          "output_type": "stream",
          "name": "stderr",
          "text": [
            "/usr/local/lib/python3.10/dist-packages/sklearn/preprocessing/_label.py:895: UserWarning: unknown class(es) [122, 127, 137, 142, 155, 222, 236, 250, 388, 42, 86, 91] will be ignored\n",
            "  warnings.warn(\n",
            "<ipython-input-3-800ca82d1755>:77: FutureWarning: The frame.append method is deprecated and will be removed from pandas in a future version. Use pandas.concat instead.\n",
            "  df_metricas = df_metricas.append({'Imagem': nome_imagem, 'Precisão': precisao, 'Recall': reca, 'YoU': iou,'F1_score':f1_s}, ignore_index=True)\n"
          ]
        },
        {
          "output_type": "stream",
          "name": "stdout",
          "text": [
            "Imagem: image-19_sobel.png\n",
            "Precisão: 0.89\n",
            "Recall: 0.89\n",
            "YOU: 0.89\n",
            "F1_score: 0.89\n"
          ]
        },
        {
          "output_type": "stream",
          "name": "stderr",
          "text": [
            "<ipython-input-3-800ca82d1755>:77: FutureWarning: The frame.append method is deprecated and will be removed from pandas in a future version. Use pandas.concat instead.\n",
            "  df_metricas = df_metricas.append({'Imagem': nome_imagem, 'Precisão': precisao, 'Recall': reca, 'YoU': iou,'F1_score':f1_s}, ignore_index=True)\n"
          ]
        },
        {
          "output_type": "stream",
          "name": "stdout",
          "text": [
            "Imagem: image-31_sobel.png\n",
            "Precisão: 1.00\n",
            "Recall: 1.00\n",
            "YOU: 1.00\n",
            "F1_score: 1.00\n"
          ]
        },
        {
          "output_type": "stream",
          "name": "stderr",
          "text": [
            "/usr/local/lib/python3.10/dist-packages/sklearn/preprocessing/_label.py:895: UserWarning: unknown class(es) [194, 272, 337, 364, 387, 40, 407, 451, 460, 481, 486, 499, 549, 748, 761, 766, 77] will be ignored\n",
            "  warnings.warn(\n",
            "<ipython-input-3-800ca82d1755>:77: FutureWarning: The frame.append method is deprecated and will be removed from pandas in a future version. Use pandas.concat instead.\n",
            "  df_metricas = df_metricas.append({'Imagem': nome_imagem, 'Precisão': precisao, 'Recall': reca, 'YoU': iou,'F1_score':f1_s}, ignore_index=True)\n"
          ]
        },
        {
          "output_type": "stream",
          "name": "stdout",
          "text": [
            "Imagem: image-8_sobel.png\n",
            "Precisão: 0.85\n",
            "Recall: 0.85\n",
            "YOU: 0.85\n",
            "F1_score: 0.85\n"
          ]
        },
        {
          "output_type": "stream",
          "name": "stderr",
          "text": [
            "/usr/local/lib/python3.10/dist-packages/sklearn/preprocessing/_label.py:895: UserWarning: unknown class(es) [17, 225, 236, 237, 245, 253, 287, 288, 298, 302, 32, 323, 326, 331, 335, 339, 341, 343, 348, 352, 395, 399, 404, 411, 69, 76] will be ignored\n",
            "  warnings.warn(\n",
            "<ipython-input-3-800ca82d1755>:77: FutureWarning: The frame.append method is deprecated and will be removed from pandas in a future version. Use pandas.concat instead.\n",
            "  df_metricas = df_metricas.append({'Imagem': nome_imagem, 'Precisão': precisao, 'Recall': reca, 'YoU': iou,'F1_score':f1_s}, ignore_index=True)\n"
          ]
        },
        {
          "output_type": "stream",
          "name": "stdout",
          "text": [
            "Imagem: image-119_sobel.png\n",
            "Precisão: 0.79\n",
            "Recall: 0.79\n",
            "YOU: 0.79\n",
            "F1_score: 0.79\n"
          ]
        },
        {
          "output_type": "stream",
          "name": "stderr",
          "text": [
            "/usr/local/lib/python3.10/dist-packages/sklearn/preprocessing/_label.py:895: UserWarning: unknown class(es) [282, 305, 324, 331] will be ignored\n",
            "  warnings.warn(\n",
            "<ipython-input-3-800ca82d1755>:77: FutureWarning: The frame.append method is deprecated and will be removed from pandas in a future version. Use pandas.concat instead.\n",
            "  df_metricas = df_metricas.append({'Imagem': nome_imagem, 'Precisão': precisao, 'Recall': reca, 'YoU': iou,'F1_score':f1_s}, ignore_index=True)\n"
          ]
        },
        {
          "output_type": "stream",
          "name": "stdout",
          "text": [
            "Imagem: image-74_sobel.png\n",
            "Precisão: 0.97\n",
            "Recall: 0.97\n",
            "YOU: 0.97\n",
            "F1_score: 0.97\n"
          ]
        },
        {
          "output_type": "stream",
          "name": "stderr",
          "text": [
            "/usr/local/lib/python3.10/dist-packages/sklearn/preprocessing/_label.py:895: UserWarning: unknown class(es) [107, 164, 168, 249, 276, 313, 337, 446, 490, 533, 544, 592, 609, 666] will be ignored\n",
            "  warnings.warn(\n",
            "<ipython-input-3-800ca82d1755>:77: FutureWarning: The frame.append method is deprecated and will be removed from pandas in a future version. Use pandas.concat instead.\n",
            "  df_metricas = df_metricas.append({'Imagem': nome_imagem, 'Precisão': precisao, 'Recall': reca, 'YoU': iou,'F1_score':f1_s}, ignore_index=True)\n"
          ]
        },
        {
          "output_type": "stream",
          "name": "stdout",
          "text": [
            "Imagem: image-111_sobel.png\n",
            "Precisão: 0.87\n",
            "Recall: 0.87\n",
            "YOU: 0.87\n",
            "F1_score: 0.87\n"
          ]
        },
        {
          "output_type": "stream",
          "name": "stderr",
          "text": [
            "/usr/local/lib/python3.10/dist-packages/sklearn/preprocessing/_label.py:895: UserWarning: unknown class(es) [105, 208, 211, 232, 295, 90, 97] will be ignored\n",
            "  warnings.warn(\n",
            "<ipython-input-3-800ca82d1755>:77: FutureWarning: The frame.append method is deprecated and will be removed from pandas in a future version. Use pandas.concat instead.\n",
            "  df_metricas = df_metricas.append({'Imagem': nome_imagem, 'Precisão': precisao, 'Recall': reca, 'YoU': iou,'F1_score':f1_s}, ignore_index=True)\n"
          ]
        },
        {
          "output_type": "stream",
          "name": "stdout",
          "text": [
            "Imagem: image-75_sobel.png\n",
            "Precisão: 0.93\n",
            "Recall: 0.93\n",
            "YOU: 0.93\n",
            "F1_score: 0.93\n"
          ]
        },
        {
          "output_type": "stream",
          "name": "stderr",
          "text": [
            "/usr/local/lib/python3.10/dist-packages/sklearn/preprocessing/_label.py:895: UserWarning: unknown class(es) [100, 101, 102, 108, 112, 113, 27, 390, 69, 92, 93, 96, 97] will be ignored\n",
            "  warnings.warn(\n",
            "<ipython-input-3-800ca82d1755>:77: FutureWarning: The frame.append method is deprecated and will be removed from pandas in a future version. Use pandas.concat instead.\n",
            "  df_metricas = df_metricas.append({'Imagem': nome_imagem, 'Precisão': precisao, 'Recall': reca, 'YoU': iou,'F1_score':f1_s}, ignore_index=True)\n"
          ]
        },
        {
          "output_type": "stream",
          "name": "stdout",
          "text": [
            "Imagem: image-76_sobel.png\n",
            "Precisão: 0.88\n",
            "Recall: 0.88\n",
            "YOU: 0.88\n",
            "F1_score: 0.88\n"
          ]
        },
        {
          "output_type": "stream",
          "name": "stderr",
          "text": [
            "/usr/local/lib/python3.10/dist-packages/sklearn/preprocessing/_label.py:895: UserWarning: unknown class(es) [232, 274, 277, 332, 359, 462, 586, 603] will be ignored\n",
            "  warnings.warn(\n",
            "<ipython-input-3-800ca82d1755>:77: FutureWarning: The frame.append method is deprecated and will be removed from pandas in a future version. Use pandas.concat instead.\n",
            "  df_metricas = df_metricas.append({'Imagem': nome_imagem, 'Precisão': precisao, 'Recall': reca, 'YoU': iou,'F1_score':f1_s}, ignore_index=True)\n"
          ]
        },
        {
          "output_type": "stream",
          "name": "stdout",
          "text": [
            "Imagem: image-62_sobel.png\n",
            "Precisão: 0.93\n",
            "Recall: 0.93\n",
            "YOU: 0.93\n",
            "F1_score: 0.93\n"
          ]
        },
        {
          "output_type": "stream",
          "name": "stderr",
          "text": [
            "/usr/local/lib/python3.10/dist-packages/sklearn/preprocessing/_label.py:895: UserWarning: unknown class(es) [310, 317, 330, 6] will be ignored\n",
            "  warnings.warn(\n",
            "<ipython-input-3-800ca82d1755>:77: FutureWarning: The frame.append method is deprecated and will be removed from pandas in a future version. Use pandas.concat instead.\n",
            "  df_metricas = df_metricas.append({'Imagem': nome_imagem, 'Precisão': precisao, 'Recall': reca, 'YoU': iou,'F1_score':f1_s}, ignore_index=True)\n"
          ]
        },
        {
          "output_type": "stream",
          "name": "stdout",
          "text": [
            "Imagem: image-77_sobel.png\n",
            "Precisão: 0.96\n",
            "Recall: 0.96\n",
            "YOU: 0.96\n",
            "F1_score: 0.96\n"
          ]
        },
        {
          "output_type": "stream",
          "name": "stderr",
          "text": [
            "/usr/local/lib/python3.10/dist-packages/sklearn/preprocessing/_label.py:895: UserWarning: unknown class(es) [173, 177, 18, 183, 189, 25, 34, 388, 416, 426, 435, 446, 540, 551, 560, 572, 609, 615, 634, 654, 661, 76] will be ignored\n",
            "  warnings.warn(\n",
            "<ipython-input-3-800ca82d1755>:77: FutureWarning: The frame.append method is deprecated and will be removed from pandas in a future version. Use pandas.concat instead.\n",
            "  df_metricas = df_metricas.append({'Imagem': nome_imagem, 'Precisão': precisao, 'Recall': reca, 'YoU': iou,'F1_score':f1_s}, ignore_index=True)\n"
          ]
        },
        {
          "output_type": "stream",
          "name": "stdout",
          "text": [
            "Imagem: image-44_sobel.png\n",
            "Precisão: 0.80\n",
            "Recall: 0.80\n",
            "YOU: 0.80\n",
            "F1_score: 0.80\n"
          ]
        },
        {
          "output_type": "stream",
          "name": "stderr",
          "text": [
            "/usr/local/lib/python3.10/dist-packages/sklearn/preprocessing/_label.py:895: UserWarning: unknown class(es) [16, 234, 238, 251, 260, 312, 395, 399, 46, 56] will be ignored\n",
            "  warnings.warn(\n",
            "<ipython-input-3-800ca82d1755>:77: FutureWarning: The frame.append method is deprecated and will be removed from pandas in a future version. Use pandas.concat instead.\n",
            "  df_metricas = df_metricas.append({'Imagem': nome_imagem, 'Precisão': precisao, 'Recall': reca, 'YoU': iou,'F1_score':f1_s}, ignore_index=True)\n"
          ]
        },
        {
          "output_type": "stream",
          "name": "stdout",
          "text": [
            "Imagem: image-25_sobel.png\n",
            "Precisão: 0.89\n",
            "Recall: 0.89\n",
            "YOU: 0.89\n",
            "F1_score: 0.89\n"
          ]
        },
        {
          "output_type": "stream",
          "name": "stderr",
          "text": [
            "/usr/local/lib/python3.10/dist-packages/sklearn/preprocessing/_label.py:895: UserWarning: unknown class(es) [134, 176, 193, 200, 217, 233, 265, 293, 35, 407, 479, 655, 664] will be ignored\n",
            "  warnings.warn(\n",
            "<ipython-input-3-800ca82d1755>:77: FutureWarning: The frame.append method is deprecated and will be removed from pandas in a future version. Use pandas.concat instead.\n",
            "  df_metricas = df_metricas.append({'Imagem': nome_imagem, 'Precisão': precisao, 'Recall': reca, 'YoU': iou,'F1_score':f1_s}, ignore_index=True)\n"
          ]
        },
        {
          "output_type": "stream",
          "name": "stdout",
          "text": [
            "Imagem: image-107_sobel.png\n",
            "Precisão: 0.87\n",
            "Recall: 0.87\n",
            "YOU: 0.87\n",
            "F1_score: 0.87\n"
          ]
        },
        {
          "output_type": "stream",
          "name": "stderr",
          "text": [
            "/usr/local/lib/python3.10/dist-packages/sklearn/preprocessing/_label.py:895: UserWarning: unknown class(es) [157, 169, 238, 268, 317, 334, 367, 475, 481, 69, 79, 81] will be ignored\n",
            "  warnings.warn(\n",
            "<ipython-input-3-800ca82d1755>:77: FutureWarning: The frame.append method is deprecated and will be removed from pandas in a future version. Use pandas.concat instead.\n",
            "  df_metricas = df_metricas.append({'Imagem': nome_imagem, 'Precisão': precisao, 'Recall': reca, 'YoU': iou,'F1_score':f1_s}, ignore_index=True)\n"
          ]
        },
        {
          "output_type": "stream",
          "name": "stdout",
          "text": [
            "Imagem: image-50_sobel.png\n",
            "Precisão: 0.90\n",
            "Recall: 0.90\n",
            "YOU: 0.90\n",
            "F1_score: 0.90\n"
          ]
        },
        {
          "output_type": "stream",
          "name": "stderr",
          "text": [
            "<ipython-input-3-800ca82d1755>:77: FutureWarning: The frame.append method is deprecated and will be removed from pandas in a future version. Use pandas.concat instead.\n",
            "  df_metricas = df_metricas.append({'Imagem': nome_imagem, 'Precisão': precisao, 'Recall': reca, 'YoU': iou,'F1_score':f1_s}, ignore_index=True)\n"
          ]
        },
        {
          "output_type": "stream",
          "name": "stdout",
          "text": [
            "Imagem: image-83_sobel.png\n",
            "Precisão: 1.00\n",
            "Recall: 1.00\n",
            "YOU: 1.00\n",
            "F1_score: 1.00\n"
          ]
        },
        {
          "output_type": "stream",
          "name": "stderr",
          "text": [
            "/usr/local/lib/python3.10/dist-packages/sklearn/preprocessing/_label.py:895: UserWarning: unknown class(es) [186, 227, 287, 297, 364, 425, 497, 510, 519, 545, 569, 659, 67, 94] will be ignored\n",
            "  warnings.warn(\n",
            "<ipython-input-3-800ca82d1755>:77: FutureWarning: The frame.append method is deprecated and will be removed from pandas in a future version. Use pandas.concat instead.\n",
            "  df_metricas = df_metricas.append({'Imagem': nome_imagem, 'Precisão': precisao, 'Recall': reca, 'YoU': iou,'F1_score':f1_s}, ignore_index=True)\n"
          ]
        },
        {
          "output_type": "stream",
          "name": "stdout",
          "text": [
            "Imagem: image-106_sobel.png\n",
            "Precisão: 0.85\n",
            "Recall: 0.85\n",
            "YOU: 0.85\n",
            "F1_score: 0.85\n"
          ]
        },
        {
          "output_type": "stream",
          "name": "stderr",
          "text": [
            "/usr/local/lib/python3.10/dist-packages/sklearn/preprocessing/_label.py:895: UserWarning: unknown class(es) [110, 122, 130, 14, 173, 254, 268, 310, 398, 41, 450, 455, 464, 547, 577, 613, 8, 95] will be ignored\n",
            "  warnings.warn(\n",
            "<ipython-input-3-800ca82d1755>:77: FutureWarning: The frame.append method is deprecated and will be removed from pandas in a future version. Use pandas.concat instead.\n",
            "  df_metricas = df_metricas.append({'Imagem': nome_imagem, 'Precisão': precisao, 'Recall': reca, 'YoU': iou,'F1_score':f1_s}, ignore_index=True)\n"
          ]
        },
        {
          "output_type": "stream",
          "name": "stdout",
          "text": [
            "Imagem: image-60_sobel.png\n",
            "Precisão: 0.84\n",
            "Recall: 0.84\n",
            "YOU: 0.84\n",
            "F1_score: 0.84\n"
          ]
        },
        {
          "output_type": "stream",
          "name": "stderr",
          "text": [
            "/usr/local/lib/python3.10/dist-packages/sklearn/preprocessing/_label.py:895: UserWarning: unknown class(es) [172, 179, 187, 201, 220, 23, 28, 316, 320, 398, 419, 464, 519, 527, 536, 552, 79] will be ignored\n",
            "  warnings.warn(\n",
            "<ipython-input-3-800ca82d1755>:77: FutureWarning: The frame.append method is deprecated and will be removed from pandas in a future version. Use pandas.concat instead.\n",
            "  df_metricas = df_metricas.append({'Imagem': nome_imagem, 'Precisão': precisao, 'Recall': reca, 'YoU': iou,'F1_score':f1_s}, ignore_index=True)\n"
          ]
        },
        {
          "output_type": "stream",
          "name": "stdout",
          "text": [
            "Imagem: image-36_sobel.png\n",
            "Precisão: 0.80\n",
            "Recall: 0.80\n",
            "YOU: 0.80\n",
            "F1_score: 0.80\n"
          ]
        },
        {
          "output_type": "stream",
          "name": "stderr",
          "text": [
            "/usr/local/lib/python3.10/dist-packages/sklearn/preprocessing/_label.py:895: UserWarning: unknown class(es) [271, 281, 293, 298, 310, 316, 342] will be ignored\n",
            "  warnings.warn(\n",
            "<ipython-input-3-800ca82d1755>:77: FutureWarning: The frame.append method is deprecated and will be removed from pandas in a future version. Use pandas.concat instead.\n",
            "  df_metricas = df_metricas.append({'Imagem': nome_imagem, 'Precisão': precisao, 'Recall': reca, 'YoU': iou,'F1_score':f1_s}, ignore_index=True)\n"
          ]
        },
        {
          "output_type": "stream",
          "name": "stdout",
          "text": [
            "Imagem: image-73_sobel.png\n",
            "Precisão: 0.92\n",
            "Recall: 0.92\n",
            "YOU: 0.92\n",
            "F1_score: 0.92\n"
          ]
        },
        {
          "output_type": "stream",
          "name": "stderr",
          "text": [
            "/usr/local/lib/python3.10/dist-packages/sklearn/preprocessing/_label.py:895: UserWarning: unknown class(es) [210, 215, 216, 237, 239, 24, 357, 372, 376, 390, 401, 411, 545, 565] will be ignored\n",
            "  warnings.warn(\n",
            "<ipython-input-3-800ca82d1755>:77: FutureWarning: The frame.append method is deprecated and will be removed from pandas in a future version. Use pandas.concat instead.\n",
            "  df_metricas = df_metricas.append({'Imagem': nome_imagem, 'Precisão': precisao, 'Recall': reca, 'YoU': iou,'F1_score':f1_s}, ignore_index=True)\n"
          ]
        },
        {
          "output_type": "stream",
          "name": "stdout",
          "text": [
            "Imagem: image-38_sobel.png\n",
            "Precisão: 0.89\n",
            "Recall: 0.85\n",
            "YOU: 0.85\n",
            "F1_score: 0.86\n"
          ]
        },
        {
          "output_type": "stream",
          "name": "stderr",
          "text": [
            "/usr/local/lib/python3.10/dist-packages/sklearn/preprocessing/_label.py:895: UserWarning: unknown class(es) [138, 232, 251, 281, 288, 291, 296, 336, 351, 355, 361, 421, 441, 456, 53, 56, 86] will be ignored\n",
            "  warnings.warn(\n",
            "<ipython-input-3-800ca82d1755>:77: FutureWarning: The frame.append method is deprecated and will be removed from pandas in a future version. Use pandas.concat instead.\n",
            "  df_metricas = df_metricas.append({'Imagem': nome_imagem, 'Precisão': precisao, 'Recall': reca, 'YoU': iou,'F1_score':f1_s}, ignore_index=True)\n"
          ]
        },
        {
          "output_type": "stream",
          "name": "stdout",
          "text": [
            "Imagem: image-113_sobel.png\n",
            "Precisão: 0.83\n",
            "Recall: 0.83\n",
            "YOU: 0.83\n",
            "F1_score: 0.83\n"
          ]
        },
        {
          "output_type": "stream",
          "name": "stderr",
          "text": [
            "/usr/local/lib/python3.10/dist-packages/sklearn/preprocessing/_label.py:895: UserWarning: unknown class(es) [2, 26, 28] will be ignored\n",
            "  warnings.warn(\n",
            "<ipython-input-3-800ca82d1755>:71: UserWarning: /content/drive/MyDrive/Projeto_final/dataset/Resultado_Metricas/image-81_sobel.png is a low contrast image\n",
            "  io.imsave(os.path.join(imagens_dataset_saida, nome_imagem), (label2rgb(segmentacao) * 255).astype(np.uint8))\n",
            "<ipython-input-3-800ca82d1755>:77: FutureWarning: The frame.append method is deprecated and will be removed from pandas in a future version. Use pandas.concat instead.\n",
            "  df_metricas = df_metricas.append({'Imagem': nome_imagem, 'Precisão': precisao, 'Recall': reca, 'YoU': iou,'F1_score':f1_s}, ignore_index=True)\n"
          ]
        },
        {
          "output_type": "stream",
          "name": "stdout",
          "text": [
            "Imagem: image-81_sobel.png\n",
            "Precisão: 0.99\n",
            "Recall: 0.99\n",
            "YOU: 0.99\n",
            "F1_score: 0.99\n"
          ]
        },
        {
          "output_type": "stream",
          "name": "stderr",
          "text": [
            "/usr/local/lib/python3.10/dist-packages/sklearn/preprocessing/_label.py:895: UserWarning: unknown class(es) [399, 549] will be ignored\n",
            "  warnings.warn(\n",
            "<ipython-input-3-800ca82d1755>:77: FutureWarning: The frame.append method is deprecated and will be removed from pandas in a future version. Use pandas.concat instead.\n",
            "  df_metricas = df_metricas.append({'Imagem': nome_imagem, 'Precisão': precisao, 'Recall': reca, 'YoU': iou,'F1_score':f1_s}, ignore_index=True)\n"
          ]
        },
        {
          "output_type": "stream",
          "name": "stdout",
          "text": [
            "Imagem: image-54_sobel.png\n",
            "Precisão: 0.98\n",
            "Recall: 0.98\n",
            "YOU: 0.98\n",
            "F1_score: 0.98\n"
          ]
        },
        {
          "output_type": "stream",
          "name": "stderr",
          "text": [
            "/usr/local/lib/python3.10/dist-packages/sklearn/preprocessing/_label.py:895: UserWarning: unknown class(es) [174, 179, 18, 184, 199, 247, 252, 268, 312, 418, 5, 570, 583, 611, 67] will be ignored\n",
            "  warnings.warn(\n",
            "<ipython-input-3-800ca82d1755>:77: FutureWarning: The frame.append method is deprecated and will be removed from pandas in a future version. Use pandas.concat instead.\n",
            "  df_metricas = df_metricas.append({'Imagem': nome_imagem, 'Precisão': precisao, 'Recall': reca, 'YoU': iou,'F1_score':f1_s}, ignore_index=True)\n"
          ]
        },
        {
          "output_type": "stream",
          "name": "stdout",
          "text": [
            "Imagem: image-66_sobel.png\n",
            "Precisão: 0.83\n",
            "Recall: 0.83\n",
            "YOU: 0.83\n",
            "F1_score: 0.83\n"
          ]
        },
        {
          "output_type": "stream",
          "name": "stderr",
          "text": [
            "/usr/local/lib/python3.10/dist-packages/sklearn/preprocessing/_label.py:895: UserWarning: unknown class(es) [523, 619, 667, 673, 682] will be ignored\n",
            "  warnings.warn(\n",
            "<ipython-input-3-800ca82d1755>:77: FutureWarning: The frame.append method is deprecated and will be removed from pandas in a future version. Use pandas.concat instead.\n",
            "  df_metricas = df_metricas.append({'Imagem': nome_imagem, 'Precisão': precisao, 'Recall': reca, 'YoU': iou,'F1_score':f1_s}, ignore_index=True)\n"
          ]
        },
        {
          "output_type": "stream",
          "name": "stdout",
          "text": [
            "Imagem: image-102_sobel.png\n",
            "Precisão: 0.93\n",
            "Recall: 0.93\n",
            "YOU: 0.93\n",
            "F1_score: 0.93\n"
          ]
        },
        {
          "output_type": "stream",
          "name": "stderr",
          "text": [
            "/usr/local/lib/python3.10/dist-packages/sklearn/preprocessing/_label.py:895: UserWarning: unknown class(es) [115, 138, 160, 181, 269, 364, 448, 7] will be ignored\n",
            "  warnings.warn(\n",
            "<ipython-input-3-800ca82d1755>:77: FutureWarning: The frame.append method is deprecated and will be removed from pandas in a future version. Use pandas.concat instead.\n",
            "  df_metricas = df_metricas.append({'Imagem': nome_imagem, 'Precisão': precisao, 'Recall': reca, 'YoU': iou,'F1_score':f1_s}, ignore_index=True)\n"
          ]
        },
        {
          "output_type": "stream",
          "name": "stdout",
          "text": [
            "Imagem: image-68_sobel.png\n",
            "Precisão: 0.91\n",
            "Recall: 0.91\n",
            "YOU: 0.91\n",
            "F1_score: 0.91\n"
          ]
        },
        {
          "output_type": "stream",
          "name": "stderr",
          "text": [
            "/usr/local/lib/python3.10/dist-packages/sklearn/preprocessing/_label.py:895: UserWarning: unknown class(es) [302, 303, 355, 407, 508, 514, 538, 546, 561, 716, 737] will be ignored\n",
            "  warnings.warn(\n",
            "<ipython-input-3-800ca82d1755>:77: FutureWarning: The frame.append method is deprecated and will be removed from pandas in a future version. Use pandas.concat instead.\n",
            "  df_metricas = df_metricas.append({'Imagem': nome_imagem, 'Precisão': precisao, 'Recall': reca, 'YoU': iou,'F1_score':f1_s}, ignore_index=True)\n"
          ]
        },
        {
          "output_type": "stream",
          "name": "stdout",
          "text": [
            "Imagem: image-101_sobel.png\n",
            "Precisão: 0.87\n",
            "Recall: 0.87\n",
            "YOU: 0.87\n",
            "F1_score: 0.87\n"
          ]
        },
        {
          "output_type": "stream",
          "name": "stderr",
          "text": [
            "/usr/local/lib/python3.10/dist-packages/sklearn/preprocessing/_label.py:895: UserWarning: unknown class(es) [121, 177, 317, 328, 418, 449, 46, 480, 497, 548, 561, 591, 597, 607, 621, 633, 638, 723, 729, 743] will be ignored\n",
            "  warnings.warn(\n",
            "<ipython-input-3-800ca82d1755>:77: FutureWarning: The frame.append method is deprecated and will be removed from pandas in a future version. Use pandas.concat instead.\n",
            "  df_metricas = df_metricas.append({'Imagem': nome_imagem, 'Precisão': precisao, 'Recall': reca, 'YoU': iou,'F1_score':f1_s}, ignore_index=True)\n"
          ]
        },
        {
          "output_type": "stream",
          "name": "stdout",
          "text": [
            "Imagem: image-12_sobel.png\n",
            "Precisão: 0.80\n",
            "Recall: 0.80\n",
            "YOU: 0.80\n",
            "F1_score: 0.80\n"
          ]
        },
        {
          "output_type": "stream",
          "name": "stderr",
          "text": [
            "/usr/local/lib/python3.10/dist-packages/sklearn/preprocessing/_label.py:895: UserWarning: unknown class(es) [135, 147, 152, 197, 289, 352, 397, 414, 416, 593, 658, 675, 686, 699] will be ignored\n",
            "  warnings.warn(\n",
            "<ipython-input-3-800ca82d1755>:77: FutureWarning: The frame.append method is deprecated and will be removed from pandas in a future version. Use pandas.concat instead.\n",
            "  df_metricas = df_metricas.append({'Imagem': nome_imagem, 'Precisão': precisao, 'Recall': reca, 'YoU': iou,'F1_score':f1_s}, ignore_index=True)\n"
          ]
        },
        {
          "output_type": "stream",
          "name": "stdout",
          "text": [
            "Imagem: image-116_sobel.png\n",
            "Precisão: 0.87\n",
            "Recall: 0.87\n",
            "YOU: 0.87\n",
            "F1_score: 0.87\n"
          ]
        },
        {
          "output_type": "stream",
          "name": "stderr",
          "text": [
            "/usr/local/lib/python3.10/dist-packages/sklearn/preprocessing/_label.py:895: UserWarning: unknown class(es) [308, 309, 406, 425, 429, 461, 606] will be ignored\n",
            "  warnings.warn(\n",
            "<ipython-input-3-800ca82d1755>:77: FutureWarning: The frame.append method is deprecated and will be removed from pandas in a future version. Use pandas.concat instead.\n",
            "  df_metricas = df_metricas.append({'Imagem': nome_imagem, 'Precisão': precisao, 'Recall': reca, 'YoU': iou,'F1_score':f1_s}, ignore_index=True)\n"
          ]
        },
        {
          "output_type": "stream",
          "name": "stdout",
          "text": [
            "Imagem: image-37_sobel.png\n",
            "Precisão: 0.91\n",
            "Recall: 0.91\n",
            "YOU: 0.91\n",
            "F1_score: 0.91\n"
          ]
        },
        {
          "output_type": "stream",
          "name": "stderr",
          "text": [
            "/usr/local/lib/python3.10/dist-packages/sklearn/preprocessing/_label.py:895: UserWarning: unknown class(es) [100, 124, 152, 162, 164, 206, 239, 277, 282, 331, 506, 516, 554, 88, 91] will be ignored\n",
            "  warnings.warn(\n",
            "<ipython-input-3-800ca82d1755>:77: FutureWarning: The frame.append method is deprecated and will be removed from pandas in a future version. Use pandas.concat instead.\n",
            "  df_metricas = df_metricas.append({'Imagem': nome_imagem, 'Precisão': precisao, 'Recall': reca, 'YoU': iou,'F1_score':f1_s}, ignore_index=True)\n"
          ]
        },
        {
          "output_type": "stream",
          "name": "stdout",
          "text": [
            "Imagem: image-120_sobel.png\n",
            "Precisão: 0.83\n",
            "Recall: 0.83\n",
            "YOU: 0.83\n",
            "F1_score: 0.83\n"
          ]
        },
        {
          "output_type": "stream",
          "name": "stderr",
          "text": [
            "/usr/local/lib/python3.10/dist-packages/sklearn/preprocessing/_label.py:895: UserWarning: unknown class(es) [174, 175, 177, 178, 179, 47, 63, 76, 84, 91] will be ignored\n",
            "  warnings.warn(\n",
            "<ipython-input-3-800ca82d1755>:77: FutureWarning: The frame.append method is deprecated and will be removed from pandas in a future version. Use pandas.concat instead.\n",
            "  df_metricas = df_metricas.append({'Imagem': nome_imagem, 'Precisão': precisao, 'Recall': reca, 'YoU': iou,'F1_score':f1_s}, ignore_index=True)\n"
          ]
        },
        {
          "output_type": "stream",
          "name": "stdout",
          "text": [
            "Imagem: image-78_sobel.png\n",
            "Precisão: 0.90\n",
            "Recall: 0.90\n",
            "YOU: 0.90\n",
            "F1_score: 0.90\n"
          ]
        },
        {
          "output_type": "stream",
          "name": "stderr",
          "text": [
            "/usr/local/lib/python3.10/dist-packages/sklearn/preprocessing/_label.py:895: UserWarning: unknown class(es) [232, 9] will be ignored\n",
            "  warnings.warn(\n",
            "<ipython-input-3-800ca82d1755>:77: FutureWarning: The frame.append method is deprecated and will be removed from pandas in a future version. Use pandas.concat instead.\n",
            "  df_metricas = df_metricas.append({'Imagem': nome_imagem, 'Precisão': precisao, 'Recall': reca, 'YoU': iou,'F1_score':f1_s}, ignore_index=True)\n"
          ]
        },
        {
          "output_type": "stream",
          "name": "stdout",
          "text": [
            "Imagem: image-33_sobel.png\n",
            "Precisão: 0.98\n",
            "Recall: 0.98\n",
            "YOU: 0.98\n",
            "F1_score: 0.98\n"
          ]
        },
        {
          "output_type": "stream",
          "name": "stderr",
          "text": [
            "/usr/local/lib/python3.10/dist-packages/sklearn/preprocessing/_label.py:895: UserWarning: unknown class(es) [116, 125, 138, 143, 31, 416, 433, 443, 498, 58, 67, 79, 86] will be ignored\n",
            "  warnings.warn(\n",
            "<ipython-input-3-800ca82d1755>:77: FutureWarning: The frame.append method is deprecated and will be removed from pandas in a future version. Use pandas.concat instead.\n",
            "  df_metricas = df_metricas.append({'Imagem': nome_imagem, 'Precisão': precisao, 'Recall': reca, 'YoU': iou,'F1_score':f1_s}, ignore_index=True)\n"
          ]
        },
        {
          "output_type": "stream",
          "name": "stdout",
          "text": [
            "Imagem: image-118_sobel.png\n",
            "Precisão: 0.91\n",
            "Recall: 0.91\n",
            "YOU: 0.91\n",
            "F1_score: 0.91\n"
          ]
        },
        {
          "output_type": "stream",
          "name": "stderr",
          "text": [
            "<ipython-input-3-800ca82d1755>:71: UserWarning: /content/drive/MyDrive/Projeto_final/dataset/Resultado_Metricas/image-79_sobel.png is a low contrast image\n",
            "  io.imsave(os.path.join(imagens_dataset_saida, nome_imagem), (label2rgb(segmentacao) * 255).astype(np.uint8))\n",
            "<ipython-input-3-800ca82d1755>:77: FutureWarning: The frame.append method is deprecated and will be removed from pandas in a future version. Use pandas.concat instead.\n",
            "  df_metricas = df_metricas.append({'Imagem': nome_imagem, 'Precisão': precisao, 'Recall': reca, 'YoU': iou,'F1_score':f1_s}, ignore_index=True)\n"
          ]
        },
        {
          "output_type": "stream",
          "name": "stdout",
          "text": [
            "Imagem: image-79_sobel.png\n",
            "Precisão: 1.00\n",
            "Recall: 1.00\n",
            "YOU: 1.00\n",
            "F1_score: 1.00\n"
          ]
        },
        {
          "output_type": "stream",
          "name": "stderr",
          "text": [
            "<ipython-input-3-800ca82d1755>:71: UserWarning: /content/drive/MyDrive/Projeto_final/dataset/Resultado_Metricas/image-80_sobel.png is a low contrast image\n",
            "  io.imsave(os.path.join(imagens_dataset_saida, nome_imagem), (label2rgb(segmentacao) * 255).astype(np.uint8))\n",
            "<ipython-input-3-800ca82d1755>:77: FutureWarning: The frame.append method is deprecated and will be removed from pandas in a future version. Use pandas.concat instead.\n",
            "  df_metricas = df_metricas.append({'Imagem': nome_imagem, 'Precisão': precisao, 'Recall': reca, 'YoU': iou,'F1_score':f1_s}, ignore_index=True)\n"
          ]
        },
        {
          "output_type": "stream",
          "name": "stdout",
          "text": [
            "Imagem: image-80_sobel.png\n",
            "Precisão: 1.00\n",
            "Recall: 1.00\n",
            "YOU: 1.00\n",
            "F1_score: 1.00\n"
          ]
        },
        {
          "output_type": "stream",
          "name": "stderr",
          "text": [
            "/usr/local/lib/python3.10/dist-packages/sklearn/preprocessing/_label.py:895: UserWarning: unknown class(es) [18, 205, 211, 26, 347, 391, 410, 52, 619, 87] will be ignored\n",
            "  warnings.warn(\n",
            "<ipython-input-3-800ca82d1755>:77: FutureWarning: The frame.append method is deprecated and will be removed from pandas in a future version. Use pandas.concat instead.\n",
            "  df_metricas = df_metricas.append({'Imagem': nome_imagem, 'Precisão': precisao, 'Recall': reca, 'YoU': iou,'F1_score':f1_s}, ignore_index=True)\n"
          ]
        },
        {
          "output_type": "stream",
          "name": "stdout",
          "text": [
            "Imagem: image-39_sobel.png\n",
            "Precisão: 0.90\n",
            "Recall: 0.90\n",
            "YOU: 0.90\n",
            "F1_score: 0.90\n"
          ]
        },
        {
          "output_type": "stream",
          "name": "stderr",
          "text": [
            "<ipython-input-3-800ca82d1755>:71: UserWarning: /content/drive/MyDrive/Projeto_final/dataset/Resultado_Metricas/image-86_sobel.png is a low contrast image\n",
            "  io.imsave(os.path.join(imagens_dataset_saida, nome_imagem), (label2rgb(segmentacao) * 255).astype(np.uint8))\n",
            "<ipython-input-3-800ca82d1755>:77: FutureWarning: The frame.append method is deprecated and will be removed from pandas in a future version. Use pandas.concat instead.\n",
            "  df_metricas = df_metricas.append({'Imagem': nome_imagem, 'Precisão': precisao, 'Recall': reca, 'YoU': iou,'F1_score':f1_s}, ignore_index=True)\n"
          ]
        },
        {
          "output_type": "stream",
          "name": "stdout",
          "text": [
            "Imagem: image-86_sobel.png\n",
            "Precisão: 1.00\n",
            "Recall: 1.00\n",
            "YOU: 1.00\n",
            "F1_score: 1.00\n"
          ]
        },
        {
          "output_type": "stream",
          "name": "stderr",
          "text": [
            "<ipython-input-3-800ca82d1755>:77: FutureWarning: The frame.append method is deprecated and will be removed from pandas in a future version. Use pandas.concat instead.\n",
            "  df_metricas = df_metricas.append({'Imagem': nome_imagem, 'Precisão': precisao, 'Recall': reca, 'YoU': iou,'F1_score':f1_s}, ignore_index=True)\n"
          ]
        },
        {
          "output_type": "stream",
          "name": "stdout",
          "text": [
            "Imagem: image-108_sobel.png\n",
            "Precisão: 1.00\n",
            "Recall: 1.00\n",
            "YOU: 1.00\n",
            "F1_score: 1.00\n"
          ]
        },
        {
          "output_type": "stream",
          "name": "stderr",
          "text": [
            "/usr/local/lib/python3.10/dist-packages/sklearn/preprocessing/_label.py:895: UserWarning: unknown class(es) [188, 224, 235, 255, 269, 286, 359, 408, 426, 430] will be ignored\n",
            "  warnings.warn(\n",
            "<ipython-input-3-800ca82d1755>:77: FutureWarning: The frame.append method is deprecated and will be removed from pandas in a future version. Use pandas.concat instead.\n",
            "  df_metricas = df_metricas.append({'Imagem': nome_imagem, 'Precisão': precisao, 'Recall': reca, 'YoU': iou,'F1_score':f1_s}, ignore_index=True)\n"
          ]
        },
        {
          "output_type": "stream",
          "name": "stdout",
          "text": [
            "Imagem: image-91_sobel.png\n",
            "Precisão: 0.89\n",
            "Recall: 0.89\n",
            "YOU: 0.89\n",
            "F1_score: 0.89\n"
          ]
        },
        {
          "output_type": "stream",
          "name": "stderr",
          "text": [
            "/usr/local/lib/python3.10/dist-packages/sklearn/preprocessing/_label.py:895: UserWarning: unknown class(es) [288, 320, 347, 518, 530, 70, 71, 93] will be ignored\n",
            "  warnings.warn(\n",
            "<ipython-input-3-800ca82d1755>:77: FutureWarning: The frame.append method is deprecated and will be removed from pandas in a future version. Use pandas.concat instead.\n",
            "  df_metricas = df_metricas.append({'Imagem': nome_imagem, 'Precisão': precisao, 'Recall': reca, 'YoU': iou,'F1_score':f1_s}, ignore_index=True)\n"
          ]
        },
        {
          "output_type": "stream",
          "name": "stdout",
          "text": [
            "Imagem: image-114_sobel.png\n",
            "Precisão: 0.94\n",
            "Recall: 0.94\n",
            "YOU: 0.94\n",
            "F1_score: 0.94\n"
          ]
        },
        {
          "output_type": "stream",
          "name": "stderr",
          "text": [
            "/usr/local/lib/python3.10/dist-packages/sklearn/preprocessing/_label.py:895: UserWarning: unknown class(es) [268, 274, 277, 285] will be ignored\n",
            "  warnings.warn(\n",
            "<ipython-input-3-800ca82d1755>:77: FutureWarning: The frame.append method is deprecated and will be removed from pandas in a future version. Use pandas.concat instead.\n",
            "  df_metricas = df_metricas.append({'Imagem': nome_imagem, 'Precisão': precisao, 'Recall': reca, 'YoU': iou,'F1_score':f1_s}, ignore_index=True)\n"
          ]
        },
        {
          "output_type": "stream",
          "name": "stdout",
          "text": [
            "Imagem: image-112_sobel.png\n",
            "Precisão: 0.97\n",
            "Recall: 0.97\n",
            "YOU: 0.97\n",
            "F1_score: 0.97\n"
          ]
        },
        {
          "output_type": "stream",
          "name": "stderr",
          "text": [
            "/usr/local/lib/python3.10/dist-packages/sklearn/preprocessing/_label.py:895: UserWarning: unknown class(es) [102, 111, 140, 161, 169, 264, 266, 278, 293, 312, 92] will be ignored\n",
            "  warnings.warn(\n",
            "<ipython-input-3-800ca82d1755>:77: FutureWarning: The frame.append method is deprecated and will be removed from pandas in a future version. Use pandas.concat instead.\n",
            "  df_metricas = df_metricas.append({'Imagem': nome_imagem, 'Precisão': precisao, 'Recall': reca, 'YoU': iou,'F1_score':f1_s}, ignore_index=True)\n"
          ]
        },
        {
          "output_type": "stream",
          "name": "stdout",
          "text": [
            "Imagem: image-115_sobel.png\n",
            "Precisão: 0.93\n",
            "Recall: 0.93\n",
            "YOU: 0.93\n",
            "F1_score: 0.93\n"
          ]
        },
        {
          "output_type": "stream",
          "name": "stderr",
          "text": [
            "/usr/local/lib/python3.10/dist-packages/sklearn/preprocessing/_label.py:895: UserWarning: unknown class(es) [336, 341, 359, 404, 446, 462, 489, 581, 594] will be ignored\n",
            "  warnings.warn(\n",
            "<ipython-input-3-800ca82d1755>:77: FutureWarning: The frame.append method is deprecated and will be removed from pandas in a future version. Use pandas.concat instead.\n",
            "  df_metricas = df_metricas.append({'Imagem': nome_imagem, 'Precisão': precisao, 'Recall': reca, 'YoU': iou,'F1_score':f1_s}, ignore_index=True)\n"
          ]
        },
        {
          "output_type": "stream",
          "name": "stdout",
          "text": [
            "Imagem: image-53_sobel.png\n",
            "Precisão: 0.91\n",
            "Recall: 0.91\n",
            "YOU: 0.91\n",
            "F1_score: 0.91\n"
          ]
        },
        {
          "output_type": "stream",
          "name": "stderr",
          "text": [
            "/usr/local/lib/python3.10/dist-packages/sklearn/preprocessing/_label.py:895: UserWarning: unknown class(es) [109, 141, 151, 16, 224, 248, 30, 505, 533, 68, 7, 81] will be ignored\n",
            "  warnings.warn(\n",
            "<ipython-input-3-800ca82d1755>:77: FutureWarning: The frame.append method is deprecated and will be removed from pandas in a future version. Use pandas.concat instead.\n",
            "  df_metricas = df_metricas.append({'Imagem': nome_imagem, 'Precisão': precisao, 'Recall': reca, 'YoU': iou,'F1_score':f1_s}, ignore_index=True)\n"
          ]
        },
        {
          "output_type": "stream",
          "name": "stdout",
          "text": [
            "Imagem: image-97_sobel.png\n",
            "Precisão: 0.91\n",
            "Recall: 0.88\n",
            "YOU: 0.88\n",
            "F1_score: 0.88\n"
          ]
        },
        {
          "output_type": "stream",
          "name": "stderr",
          "text": [
            "/usr/local/lib/python3.10/dist-packages/sklearn/preprocessing/_label.py:895: UserWarning: unknown class(es) [114, 162, 226, 288, 345, 350, 365, 468, 520, 93] will be ignored\n",
            "  warnings.warn(\n",
            "<ipython-input-3-800ca82d1755>:77: FutureWarning: The frame.append method is deprecated and will be removed from pandas in a future version. Use pandas.concat instead.\n",
            "  df_metricas = df_metricas.append({'Imagem': nome_imagem, 'Precisão': precisao, 'Recall': reca, 'YoU': iou,'F1_score':f1_s}, ignore_index=True)\n",
            "/usr/local/lib/python3.10/dist-packages/sklearn/preprocessing/_label.py:895: UserWarning: unknown class(es) [160, 201, 208, 228, 231, 234, 253, 286, 334] will be ignored\n",
            "  warnings.warn(\n"
          ]
        },
        {
          "output_type": "stream",
          "name": "stdout",
          "text": [
            "Imagem: image-48_sobel.png\n",
            "Precisão: 0.91\n",
            "Recall: 0.91\n",
            "YOU: 0.91\n",
            "F1_score: 0.91\n"
          ]
        },
        {
          "output_type": "stream",
          "name": "stderr",
          "text": [
            "<ipython-input-3-800ca82d1755>:77: FutureWarning: The frame.append method is deprecated and will be removed from pandas in a future version. Use pandas.concat instead.\n",
            "  df_metricas = df_metricas.append({'Imagem': nome_imagem, 'Precisão': precisao, 'Recall': reca, 'YoU': iou,'F1_score':f1_s}, ignore_index=True)\n"
          ]
        },
        {
          "output_type": "stream",
          "name": "stdout",
          "text": [
            "Imagem: image-70_sobel.png\n",
            "Precisão: 0.91\n",
            "Recall: 0.91\n",
            "YOU: 0.91\n",
            "F1_score: 0.91\n"
          ]
        },
        {
          "output_type": "stream",
          "name": "stderr",
          "text": [
            "/usr/local/lib/python3.10/dist-packages/sklearn/preprocessing/_label.py:895: UserWarning: unknown class(es) [502] will be ignored\n",
            "  warnings.warn(\n",
            "<ipython-input-3-800ca82d1755>:77: FutureWarning: The frame.append method is deprecated and will be removed from pandas in a future version. Use pandas.concat instead.\n",
            "  df_metricas = df_metricas.append({'Imagem': nome_imagem, 'Precisão': precisao, 'Recall': reca, 'YoU': iou,'F1_score':f1_s}, ignore_index=True)\n"
          ]
        },
        {
          "output_type": "stream",
          "name": "stdout",
          "text": [
            "Imagem: image-100_sobel.png\n",
            "Precisão: 0.98\n",
            "Recall: 0.98\n",
            "YOU: 0.98\n",
            "F1_score: 0.98\n"
          ]
        },
        {
          "output_type": "stream",
          "name": "stderr",
          "text": [
            "/usr/local/lib/python3.10/dist-packages/sklearn/preprocessing/_label.py:895: UserWarning: unknown class(es) [194, 217, 234, 261, 288, 301, 39, 402, 407, 558, 568] will be ignored\n",
            "  warnings.warn(\n",
            "<ipython-input-3-800ca82d1755>:77: FutureWarning: The frame.append method is deprecated and will be removed from pandas in a future version. Use pandas.concat instead.\n",
            "  df_metricas = df_metricas.append({'Imagem': nome_imagem, 'Precisão': precisao, 'Recall': reca, 'YoU': iou,'F1_score':f1_s}, ignore_index=True)\n"
          ]
        },
        {
          "output_type": "stream",
          "name": "stdout",
          "text": [
            "Imagem: image-52_sobel.png\n",
            "Precisão: 0.85\n",
            "Recall: 0.84\n",
            "YOU: 0.84\n",
            "F1_score: 0.84\n"
          ]
        },
        {
          "output_type": "stream",
          "name": "stderr",
          "text": [
            "/usr/local/lib/python3.10/dist-packages/sklearn/preprocessing/_label.py:895: UserWarning: unknown class(es) [215, 231, 351, 359, 441, 515, 540] will be ignored\n",
            "  warnings.warn(\n",
            "<ipython-input-3-800ca82d1755>:77: FutureWarning: The frame.append method is deprecated and will be removed from pandas in a future version. Use pandas.concat instead.\n",
            "  df_metricas = df_metricas.append({'Imagem': nome_imagem, 'Precisão': precisao, 'Recall': reca, 'YoU': iou,'F1_score':f1_s}, ignore_index=True)\n"
          ]
        },
        {
          "output_type": "stream",
          "name": "stdout",
          "text": [
            "Imagem: image-69_sobel.png\n",
            "Precisão: 0.91\n",
            "Recall: 0.91\n",
            "YOU: 0.91\n",
            "F1_score: 0.91\n"
          ]
        },
        {
          "output_type": "stream",
          "name": "stderr",
          "text": [
            "/usr/local/lib/python3.10/dist-packages/sklearn/preprocessing/_label.py:895: UserWarning: unknown class(es) [221, 240, 306, 325, 343, 360, 374, 378, 386, 398, 409, 410, 419, 587, 589] will be ignored\n",
            "  warnings.warn(\n",
            "<ipython-input-3-800ca82d1755>:77: FutureWarning: The frame.append method is deprecated and will be removed from pandas in a future version. Use pandas.concat instead.\n",
            "  df_metricas = df_metricas.append({'Imagem': nome_imagem, 'Precisão': precisao, 'Recall': reca, 'YoU': iou,'F1_score':f1_s}, ignore_index=True)\n"
          ]
        },
        {
          "output_type": "stream",
          "name": "stdout",
          "text": [
            "Imagem: image-110_sobel.png\n",
            "Precisão: 0.84\n",
            "Recall: 0.84\n",
            "YOU: 0.84\n",
            "F1_score: 0.84\n"
          ]
        },
        {
          "output_type": "stream",
          "name": "stderr",
          "text": [
            "/usr/local/lib/python3.10/dist-packages/sklearn/preprocessing/_label.py:895: UserWarning: unknown class(es) [211, 217, 220, 222, 225, 230, 236, 247, 259, 268, 276, 281, 291, 295, 321, 322, 365, 375, 389, 412, 413, 416, 422] will be ignored\n",
            "  warnings.warn(\n",
            "<ipython-input-3-800ca82d1755>:77: FutureWarning: The frame.append method is deprecated and will be removed from pandas in a future version. Use pandas.concat instead.\n",
            "  df_metricas = df_metricas.append({'Imagem': nome_imagem, 'Precisão': precisao, 'Recall': reca, 'YoU': iou,'F1_score':f1_s}, ignore_index=True)\n"
          ]
        },
        {
          "output_type": "stream",
          "name": "stdout",
          "text": [
            "Imagem: image-34_sobel.png\n",
            "Precisão: 0.78\n",
            "Recall: 0.78\n",
            "YOU: 0.78\n",
            "F1_score: 0.78\n"
          ]
        },
        {
          "output_type": "stream",
          "name": "stderr",
          "text": [
            "/usr/local/lib/python3.10/dist-packages/sklearn/preprocessing/_label.py:895: UserWarning: unknown class(es) [15, 154, 166, 175, 188, 220, 286, 359, 439, 86] will be ignored\n",
            "  warnings.warn(\n",
            "<ipython-input-3-800ca82d1755>:77: FutureWarning: The frame.append method is deprecated and will be removed from pandas in a future version. Use pandas.concat instead.\n",
            "  df_metricas = df_metricas.append({'Imagem': nome_imagem, 'Precisão': precisao, 'Recall': reca, 'YoU': iou,'F1_score':f1_s}, ignore_index=True)\n"
          ]
        },
        {
          "output_type": "stream",
          "name": "stdout",
          "text": [
            "Imagem: image-61_sobel.png\n",
            "Precisão: 0.89\n",
            "Recall: 0.89\n",
            "YOU: 0.89\n",
            "F1_score: 0.89\n"
          ]
        },
        {
          "output_type": "stream",
          "name": "stderr",
          "text": [
            "/usr/local/lib/python3.10/dist-packages/sklearn/preprocessing/_label.py:895: UserWarning: unknown class(es) [103, 240, 277, 402, 528] will be ignored\n",
            "  warnings.warn(\n",
            "<ipython-input-3-800ca82d1755>:77: FutureWarning: The frame.append method is deprecated and will be removed from pandas in a future version. Use pandas.concat instead.\n",
            "  df_metricas = df_metricas.append({'Imagem': nome_imagem, 'Precisão': precisao, 'Recall': reca, 'YoU': iou,'F1_score':f1_s}, ignore_index=True)\n"
          ]
        },
        {
          "output_type": "stream",
          "name": "stdout",
          "text": [
            "Imagem: image-23_sobel.png\n",
            "Precisão: 0.93\n",
            "Recall: 0.93\n",
            "YOU: 0.93\n",
            "F1_score: 0.93\n"
          ]
        },
        {
          "output_type": "stream",
          "name": "stderr",
          "text": [
            "/usr/local/lib/python3.10/dist-packages/sklearn/preprocessing/_label.py:895: UserWarning: unknown class(es) [147, 152, 158, 184, 196, 238, 244, 269, 279, 282, 287, 587, 602, 620, 626, 655, 662, 669] will be ignored\n",
            "  warnings.warn(\n",
            "<ipython-input-3-800ca82d1755>:77: FutureWarning: The frame.append method is deprecated and will be removed from pandas in a future version. Use pandas.concat instead.\n",
            "  df_metricas = df_metricas.append({'Imagem': nome_imagem, 'Precisão': precisao, 'Recall': reca, 'YoU': iou,'F1_score':f1_s}, ignore_index=True)\n"
          ]
        },
        {
          "output_type": "stream",
          "name": "stdout",
          "text": [
            "Imagem: image-109_sobel.png\n",
            "Precisão: 0.80\n",
            "Recall: 0.80\n",
            "YOU: 0.80\n",
            "F1_score: 0.80\n"
          ]
        },
        {
          "output_type": "stream",
          "name": "stderr",
          "text": [
            "/usr/local/lib/python3.10/dist-packages/sklearn/preprocessing/_label.py:895: UserWarning: unknown class(es) [13, 243, 267, 27, 299, 306, 313, 333, 365] will be ignored\n",
            "  warnings.warn(\n",
            "<ipython-input-3-800ca82d1755>:77: FutureWarning: The frame.append method is deprecated and will be removed from pandas in a future version. Use pandas.concat instead.\n",
            "  df_metricas = df_metricas.append({'Imagem': nome_imagem, 'Precisão': precisao, 'Recall': reca, 'YoU': iou,'F1_score':f1_s}, ignore_index=True)\n"
          ]
        },
        {
          "output_type": "stream",
          "name": "stdout",
          "text": [
            "Imagem: image-30_sobel.png\n",
            "Precisão: 0.86\n",
            "Recall: 0.86\n",
            "YOU: 0.86\n",
            "F1_score: 0.86\n"
          ]
        },
        {
          "output_type": "stream",
          "name": "stderr",
          "text": [
            "/usr/local/lib/python3.10/dist-packages/sklearn/preprocessing/_label.py:895: UserWarning: unknown class(es) [191, 209, 239, 240, 257, 317, 340, 352, 375, 428, 475, 487, 495] will be ignored\n",
            "  warnings.warn(\n",
            "<ipython-input-3-800ca82d1755>:77: FutureWarning: The frame.append method is deprecated and will be removed from pandas in a future version. Use pandas.concat instead.\n",
            "  df_metricas = df_metricas.append({'Imagem': nome_imagem, 'Precisão': precisao, 'Recall': reca, 'YoU': iou,'F1_score':f1_s}, ignore_index=True)\n"
          ]
        },
        {
          "output_type": "stream",
          "name": "stdout",
          "text": [
            "Imagem: image-92_sobel.png\n",
            "Precisão: 0.86\n",
            "Recall: 0.86\n",
            "YOU: 0.86\n",
            "F1_score: 0.86\n"
          ]
        },
        {
          "output_type": "stream",
          "name": "stderr",
          "text": [
            "/usr/local/lib/python3.10/dist-packages/sklearn/preprocessing/_label.py:895: UserWarning: unknown class(es) [119, 141, 225, 411, 421, 433, 452, 469, 498, 502, 51, 555, 569, 700, 711, 751] will be ignored\n",
            "  warnings.warn(\n",
            "<ipython-input-3-800ca82d1755>:77: FutureWarning: The frame.append method is deprecated and will be removed from pandas in a future version. Use pandas.concat instead.\n",
            "  df_metricas = df_metricas.append({'Imagem': nome_imagem, 'Precisão': precisao, 'Recall': reca, 'YoU': iou,'F1_score':f1_s}, ignore_index=True)\n"
          ]
        },
        {
          "output_type": "stream",
          "name": "stdout",
          "text": [
            "Imagem: image-51_sobel.png\n",
            "Precisão: 0.83\n",
            "Recall: 0.83\n",
            "YOU: 0.83\n",
            "F1_score: 0.83\n"
          ]
        },
        {
          "output_type": "stream",
          "name": "stderr",
          "text": [
            "/usr/local/lib/python3.10/dist-packages/sklearn/preprocessing/_label.py:895: UserWarning: unknown class(es) [232, 320, 332, 534, 546, 578] will be ignored\n",
            "  warnings.warn(\n",
            "<ipython-input-3-800ca82d1755>:77: FutureWarning: The frame.append method is deprecated and will be removed from pandas in a future version. Use pandas.concat instead.\n",
            "  df_metricas = df_metricas.append({'Imagem': nome_imagem, 'Precisão': precisao, 'Recall': reca, 'YoU': iou,'F1_score':f1_s}, ignore_index=True)\n"
          ]
        },
        {
          "output_type": "stream",
          "name": "stdout",
          "text": [
            "Imagem: image-18_sobel.png\n",
            "Precisão: 0.95\n",
            "Recall: 0.95\n",
            "YOU: 0.95\n",
            "F1_score: 0.95\n"
          ]
        },
        {
          "output_type": "stream",
          "name": "stderr",
          "text": [
            "/usr/local/lib/python3.10/dist-packages/sklearn/preprocessing/_label.py:895: UserWarning: unknown class(es) [168, 221, 234, 243, 278, 331, 34, 424, 514, 564, 63, 709, 90] will be ignored\n",
            "  warnings.warn(\n",
            "<ipython-input-3-800ca82d1755>:77: FutureWarning: The frame.append method is deprecated and will be removed from pandas in a future version. Use pandas.concat instead.\n",
            "  df_metricas = df_metricas.append({'Imagem': nome_imagem, 'Precisão': precisao, 'Recall': reca, 'YoU': iou,'F1_score':f1_s}, ignore_index=True)\n"
          ]
        },
        {
          "output_type": "stream",
          "name": "stdout",
          "text": [
            "Imagem: image-59_sobel.png\n",
            "Precisão: 0.90\n",
            "Recall: 0.90\n",
            "YOU: 0.90\n",
            "F1_score: 0.90\n"
          ]
        },
        {
          "output_type": "stream",
          "name": "stderr",
          "text": [
            "/usr/local/lib/python3.10/dist-packages/sklearn/preprocessing/_label.py:895: UserWarning: unknown class(es) [122, 143, 148, 460, 465, 493, 498, 535, 584, 610, 619, 637, 645, 654, 68, 80] will be ignored\n",
            "  warnings.warn(\n",
            "<ipython-input-3-800ca82d1755>:77: FutureWarning: The frame.append method is deprecated and will be removed from pandas in a future version. Use pandas.concat instead.\n",
            "  df_metricas = df_metricas.append({'Imagem': nome_imagem, 'Precisão': precisao, 'Recall': reca, 'YoU': iou,'F1_score':f1_s}, ignore_index=True)\n"
          ]
        },
        {
          "output_type": "stream",
          "name": "stdout",
          "text": [
            "Imagem: image-17_sobel.png\n",
            "Precisão: 0.85\n",
            "Recall: 0.85\n",
            "YOU: 0.85\n",
            "F1_score: 0.85\n"
          ]
        },
        {
          "output_type": "stream",
          "name": "stderr",
          "text": [
            "/usr/local/lib/python3.10/dist-packages/sklearn/preprocessing/_label.py:895: UserWarning: unknown class(es) [106, 146, 156, 193, 196, 199, 256, 306, 328, 347, 36, 401, 486, 539, 551, 558, 60, 74, 85, 89, 93] will be ignored\n",
            "  warnings.warn(\n",
            "<ipython-input-3-800ca82d1755>:77: FutureWarning: The frame.append method is deprecated and will be removed from pandas in a future version. Use pandas.concat instead.\n",
            "  df_metricas = df_metricas.append({'Imagem': nome_imagem, 'Precisão': precisao, 'Recall': reca, 'YoU': iou,'F1_score':f1_s}, ignore_index=True)\n"
          ]
        },
        {
          "output_type": "stream",
          "name": "stdout",
          "text": [
            "Imagem: image-96_sobel.png\n",
            "Precisão: 0.77\n",
            "Recall: 0.77\n",
            "YOU: 0.77\n",
            "F1_score: 0.77\n"
          ]
        },
        {
          "output_type": "stream",
          "name": "stderr",
          "text": [
            "<ipython-input-3-800ca82d1755>:77: FutureWarning: The frame.append method is deprecated and will be removed from pandas in a future version. Use pandas.concat instead.\n",
            "  df_metricas = df_metricas.append({'Imagem': nome_imagem, 'Precisão': precisao, 'Recall': reca, 'YoU': iou,'F1_score':f1_s}, ignore_index=True)\n"
          ]
        },
        {
          "output_type": "stream",
          "name": "stdout",
          "text": [
            "Imagem: image-84_sobel.png\n",
            "Precisão: 1.00\n",
            "Recall: 1.00\n",
            "YOU: 1.00\n",
            "F1_score: 1.00\n"
          ]
        },
        {
          "output_type": "stream",
          "name": "stderr",
          "text": [
            "/usr/local/lib/python3.10/dist-packages/sklearn/preprocessing/_label.py:895: UserWarning: unknown class(es) [181, 265, 48, 486, 49, 504, 532, 659, 69] will be ignored\n",
            "  warnings.warn(\n",
            "<ipython-input-3-800ca82d1755>:77: FutureWarning: The frame.append method is deprecated and will be removed from pandas in a future version. Use pandas.concat instead.\n",
            "  df_metricas = df_metricas.append({'Imagem': nome_imagem, 'Precisão': precisao, 'Recall': reca, 'YoU': iou,'F1_score':f1_s}, ignore_index=True)\n"
          ]
        },
        {
          "output_type": "stream",
          "name": "stdout",
          "text": [
            "Imagem: image-24_sobel.png\n",
            "Precisão: 0.90\n",
            "Recall: 0.90\n",
            "YOU: 0.90\n",
            "F1_score: 0.90\n"
          ]
        },
        {
          "output_type": "stream",
          "name": "stderr",
          "text": [
            "/usr/local/lib/python3.10/dist-packages/sklearn/preprocessing/_label.py:895: UserWarning: unknown class(es) [282, 428, 584, 681, 739, 825, 849] will be ignored\n",
            "  warnings.warn(\n",
            "<ipython-input-3-800ca82d1755>:77: FutureWarning: The frame.append method is deprecated and will be removed from pandas in a future version. Use pandas.concat instead.\n",
            "  df_metricas = df_metricas.append({'Imagem': nome_imagem, 'Precisão': precisao, 'Recall': reca, 'YoU': iou,'F1_score':f1_s}, ignore_index=True)\n"
          ]
        },
        {
          "output_type": "stream",
          "name": "stdout",
          "text": [
            "Imagem: image-11_sobel.png\n",
            "Precisão: 0.91\n",
            "Recall: 0.91\n",
            "YOU: 0.91\n",
            "F1_score: 0.91\n"
          ]
        },
        {
          "output_type": "stream",
          "name": "stderr",
          "text": [
            "/usr/local/lib/python3.10/dist-packages/sklearn/preprocessing/_label.py:895: UserWarning: unknown class(es) [207, 208, 209, 283, 298, 615, 630, 641] will be ignored\n",
            "  warnings.warn(\n",
            "<ipython-input-3-800ca82d1755>:77: FutureWarning: The frame.append method is deprecated and will be removed from pandas in a future version. Use pandas.concat instead.\n",
            "  df_metricas = df_metricas.append({'Imagem': nome_imagem, 'Precisão': precisao, 'Recall': reca, 'YoU': iou,'F1_score':f1_s}, ignore_index=True)\n"
          ]
        },
        {
          "output_type": "stream",
          "name": "stdout",
          "text": [
            "Imagem: image-35_sobel.png\n",
            "Precisão: 0.95\n",
            "Recall: 0.95\n",
            "YOU: 0.95\n",
            "F1_score: 0.95\n"
          ]
        },
        {
          "output_type": "stream",
          "name": "stderr",
          "text": [
            "/usr/local/lib/python3.10/dist-packages/sklearn/preprocessing/_label.py:895: UserWarning: unknown class(es) [178, 280, 408, 457, 477, 537, 55, 564, 574, 595, 640, 687, 70, 770] will be ignored\n",
            "  warnings.warn(\n",
            "<ipython-input-3-800ca82d1755>:77: FutureWarning: The frame.append method is deprecated and will be removed from pandas in a future version. Use pandas.concat instead.\n",
            "  df_metricas = df_metricas.append({'Imagem': nome_imagem, 'Precisão': precisao, 'Recall': reca, 'YoU': iou,'F1_score':f1_s}, ignore_index=True)\n"
          ]
        },
        {
          "output_type": "stream",
          "name": "stdout",
          "text": [
            "Imagem: image-7_sobel.png\n",
            "Precisão: 0.88\n",
            "Recall: 0.88\n",
            "YOU: 0.88\n",
            "F1_score: 0.88\n"
          ]
        },
        {
          "output_type": "stream",
          "name": "stderr",
          "text": [
            "/usr/local/lib/python3.10/dist-packages/sklearn/preprocessing/_label.py:895: UserWarning: unknown class(es) [10, 107, 112, 187, 193, 194, 208, 221, 269, 280, 286, 303, 34, 632, 674, 7, 724, 751, 762, 79, 84, 87] will be ignored\n",
            "  warnings.warn(\n",
            "<ipython-input-3-800ca82d1755>:77: FutureWarning: The frame.append method is deprecated and will be removed from pandas in a future version. Use pandas.concat instead.\n",
            "  df_metricas = df_metricas.append({'Imagem': nome_imagem, 'Precisão': precisao, 'Recall': reca, 'YoU': iou,'F1_score':f1_s}, ignore_index=True)\n"
          ]
        },
        {
          "output_type": "stream",
          "name": "stdout",
          "text": [
            "Imagem: image-99_sobel.png\n",
            "Precisão: 0.83\n",
            "Recall: 0.82\n",
            "YOU: 0.82\n",
            "F1_score: 0.82\n"
          ]
        },
        {
          "output_type": "stream",
          "name": "stderr",
          "text": [
            "/usr/local/lib/python3.10/dist-packages/sklearn/preprocessing/_label.py:895: UserWarning: unknown class(es) [167, 174, 175, 177, 183, 216, 299, 30, 37, 390, 82] will be ignored\n",
            "  warnings.warn(\n",
            "<ipython-input-3-800ca82d1755>:77: FutureWarning: The frame.append method is deprecated and will be removed from pandas in a future version. Use pandas.concat instead.\n",
            "  df_metricas = df_metricas.append({'Imagem': nome_imagem, 'Precisão': precisao, 'Recall': reca, 'YoU': iou,'F1_score':f1_s}, ignore_index=True)\n"
          ]
        },
        {
          "output_type": "stream",
          "name": "stdout",
          "text": [
            "Imagem: image-90_sobel.png\n",
            "Precisão: 0.88\n",
            "Recall: 0.88\n",
            "YOU: 0.88\n",
            "F1_score: 0.88\n"
          ]
        },
        {
          "output_type": "stream",
          "name": "stderr",
          "text": [
            "/usr/local/lib/python3.10/dist-packages/sklearn/preprocessing/_label.py:895: UserWarning: unknown class(es) [111, 124, 154, 320, 326, 328, 330, 370, 381, 45, 49, 509, 513, 60, 79, 94] will be ignored\n",
            "  warnings.warn(\n",
            "<ipython-input-3-800ca82d1755>:77: FutureWarning: The frame.append method is deprecated and will be removed from pandas in a future version. Use pandas.concat instead.\n",
            "  df_metricas = df_metricas.append({'Imagem': nome_imagem, 'Precisão': precisao, 'Recall': reca, 'YoU': iou,'F1_score':f1_s}, ignore_index=True)\n"
          ]
        },
        {
          "output_type": "stream",
          "name": "stdout",
          "text": [
            "Imagem: image-72_sobel.png\n",
            "Precisão: 0.86\n",
            "Recall: 0.86\n",
            "YOU: 0.86\n",
            "F1_score: 0.86\n"
          ]
        },
        {
          "output_type": "stream",
          "name": "stderr",
          "text": [
            "/usr/local/lib/python3.10/dist-packages/sklearn/preprocessing/_label.py:895: UserWarning: unknown class(es) [105, 110, 144, 20, 48, 521, 594, 642, 658, 689, 713, 92, 99] will be ignored\n",
            "  warnings.warn(\n",
            "<ipython-input-3-800ca82d1755>:77: FutureWarning: The frame.append method is deprecated and will be removed from pandas in a future version. Use pandas.concat instead.\n",
            "  df_metricas = df_metricas.append({'Imagem': nome_imagem, 'Precisão': precisao, 'Recall': reca, 'YoU': iou,'F1_score':f1_s}, ignore_index=True)\n",
            "/usr/local/lib/python3.10/dist-packages/sklearn/preprocessing/_label.py:895: UserWarning: unknown class(es) [163, 165] will be ignored\n",
            "  warnings.warn(\n"
          ]
        },
        {
          "output_type": "stream",
          "name": "stdout",
          "text": [
            "Imagem: image-65_sobel.png\n",
            "Precisão: 0.87\n",
            "Recall: 0.87\n",
            "YOU: 0.87\n",
            "F1_score: 0.87\n"
          ]
        },
        {
          "output_type": "stream",
          "name": "stderr",
          "text": [
            "<ipython-input-3-800ca82d1755>:77: FutureWarning: The frame.append method is deprecated and will be removed from pandas in a future version. Use pandas.concat instead.\n",
            "  df_metricas = df_metricas.append({'Imagem': nome_imagem, 'Precisão': precisao, 'Recall': reca, 'YoU': iou,'F1_score':f1_s}, ignore_index=True)\n"
          ]
        },
        {
          "output_type": "stream",
          "name": "stdout",
          "text": [
            "Imagem: image-82_sobel.png\n",
            "Precisão: 0.99\n",
            "Recall: 0.99\n",
            "YOU: 0.99\n",
            "F1_score: 0.99\n"
          ]
        },
        {
          "output_type": "stream",
          "name": "stderr",
          "text": [
            "/usr/local/lib/python3.10/dist-packages/sklearn/preprocessing/_label.py:895: UserWarning: unknown class(es) [131, 137, 149, 168, 240, 28, 304, 309, 41, 540, 548, 72] will be ignored\n",
            "  warnings.warn(\n",
            "<ipython-input-3-800ca82d1755>:77: FutureWarning: The frame.append method is deprecated and will be removed from pandas in a future version. Use pandas.concat instead.\n",
            "  df_metricas = df_metricas.append({'Imagem': nome_imagem, 'Precisão': precisao, 'Recall': reca, 'YoU': iou,'F1_score':f1_s}, ignore_index=True)\n"
          ]
        },
        {
          "output_type": "stream",
          "name": "stdout",
          "text": [
            "Imagem: image-22_sobel.png\n",
            "Precisão: 0.87\n",
            "Recall: 0.87\n",
            "YOU: 0.87\n",
            "F1_score: 0.87\n"
          ]
        },
        {
          "output_type": "stream",
          "name": "stderr",
          "text": [
            "/usr/local/lib/python3.10/dist-packages/sklearn/preprocessing/_label.py:895: UserWarning: unknown class(es) [105, 218, 240, 292, 353, 375, 396, 414, 462, 502, 551, 73, 734] will be ignored\n",
            "  warnings.warn(\n",
            "<ipython-input-3-800ca82d1755>:77: FutureWarning: The frame.append method is deprecated and will be removed from pandas in a future version. Use pandas.concat instead.\n",
            "  df_metricas = df_metricas.append({'Imagem': nome_imagem, 'Precisão': precisao, 'Recall': reca, 'YoU': iou,'F1_score':f1_s}, ignore_index=True)\n"
          ]
        },
        {
          "output_type": "stream",
          "name": "stdout",
          "text": [
            "Imagem: image-49_sobel.png\n",
            "Precisão: 0.86\n",
            "Recall: 0.86\n",
            "YOU: 0.86\n",
            "F1_score: 0.86\n"
          ]
        },
        {
          "output_type": "stream",
          "name": "stderr",
          "text": [
            "/usr/local/lib/python3.10/dist-packages/sklearn/preprocessing/_label.py:895: UserWarning: unknown class(es) [262, 51, 52, 53, 66, 67, 80] will be ignored\n",
            "  warnings.warn(\n",
            "<ipython-input-3-800ca82d1755>:77: FutureWarning: The frame.append method is deprecated and will be removed from pandas in a future version. Use pandas.concat instead.\n",
            "  df_metricas = df_metricas.append({'Imagem': nome_imagem, 'Precisão': precisao, 'Recall': reca, 'YoU': iou,'F1_score':f1_s}, ignore_index=True)\n"
          ]
        },
        {
          "output_type": "stream",
          "name": "stdout",
          "text": [
            "Imagem: image-87_sobel.png\n",
            "Precisão: 0.92\n",
            "Recall: 0.92\n",
            "YOU: 0.92\n",
            "F1_score: 0.92\n"
          ]
        },
        {
          "output_type": "stream",
          "name": "stderr",
          "text": [
            "/usr/local/lib/python3.10/dist-packages/sklearn/preprocessing/_label.py:895: UserWarning: unknown class(es) [116, 118, 122, 128, 141, 164, 17, 24, 27, 726, 729, 93] will be ignored\n",
            "  warnings.warn(\n",
            "<ipython-input-3-800ca82d1755>:77: FutureWarning: The frame.append method is deprecated and will be removed from pandas in a future version. Use pandas.concat instead.\n",
            "  df_metricas = df_metricas.append({'Imagem': nome_imagem, 'Precisão': precisao, 'Recall': reca, 'YoU': iou,'F1_score':f1_s}, ignore_index=True)\n"
          ]
        },
        {
          "output_type": "stream",
          "name": "stdout",
          "text": [
            "Imagem: image-20_sobel.png\n",
            "Precisão: 0.89\n",
            "Recall: 0.89\n",
            "YOU: 0.89\n",
            "F1_score: 0.89\n"
          ]
        },
        {
          "output_type": "stream",
          "name": "stderr",
          "text": [
            "/usr/local/lib/python3.10/dist-packages/sklearn/preprocessing/_label.py:895: UserWarning: unknown class(es) [279, 283, 293, 295, 298, 300] will be ignored\n",
            "  warnings.warn(\n",
            "<ipython-input-3-800ca82d1755>:77: FutureWarning: The frame.append method is deprecated and will be removed from pandas in a future version. Use pandas.concat instead.\n",
            "  df_metricas = df_metricas.append({'Imagem': nome_imagem, 'Precisão': precisao, 'Recall': reca, 'YoU': iou,'F1_score':f1_s}, ignore_index=True)\n"
          ]
        },
        {
          "output_type": "stream",
          "name": "stdout",
          "text": [
            "Imagem: image-32_sobel.png\n",
            "Precisão: 0.97\n",
            "Recall: 0.97\n",
            "YOU: 0.97\n",
            "F1_score: 0.97\n"
          ]
        },
        {
          "output_type": "stream",
          "name": "stderr",
          "text": [
            "/usr/local/lib/python3.10/dist-packages/sklearn/preprocessing/_label.py:895: UserWarning: unknown class(es) [281, 362, 475, 615, 655, 656, 661] will be ignored\n",
            "  warnings.warn(\n",
            "<ipython-input-3-800ca82d1755>:77: FutureWarning: The frame.append method is deprecated and will be removed from pandas in a future version. Use pandas.concat instead.\n",
            "  df_metricas = df_metricas.append({'Imagem': nome_imagem, 'Precisão': precisao, 'Recall': reca, 'YoU': iou,'F1_score':f1_s}, ignore_index=True)\n"
          ]
        },
        {
          "output_type": "stream",
          "name": "stdout",
          "text": [
            "Imagem: image-4_sobel.png\n",
            "Precisão: 0.95\n",
            "Recall: 0.95\n",
            "YOU: 0.95\n",
            "F1_score: 0.95\n"
          ]
        },
        {
          "output_type": "stream",
          "name": "stderr",
          "text": [
            "/usr/local/lib/python3.10/dist-packages/sklearn/preprocessing/_label.py:895: UserWarning: unknown class(es) [142, 174, 221, 235, 310, 892, 903, 925] will be ignored\n",
            "  warnings.warn(\n",
            "<ipython-input-3-800ca82d1755>:77: FutureWarning: The frame.append method is deprecated and will be removed from pandas in a future version. Use pandas.concat instead.\n",
            "  df_metricas = df_metricas.append({'Imagem': nome_imagem, 'Precisão': precisao, 'Recall': reca, 'YoU': iou,'F1_score':f1_s}, ignore_index=True)\n"
          ]
        },
        {
          "output_type": "stream",
          "name": "stdout",
          "text": [
            "Imagem: image-103_sobel.png\n",
            "Precisão: 0.93\n",
            "Recall: 0.93\n",
            "YOU: 0.93\n",
            "F1_score: 0.93\n"
          ]
        },
        {
          "output_type": "stream",
          "name": "stderr",
          "text": [
            "/usr/local/lib/python3.10/dist-packages/sklearn/preprocessing/_label.py:895: UserWarning: unknown class(es) [110, 121, 334, 352, 361, 84, 86, 93] will be ignored\n",
            "  warnings.warn(\n",
            "<ipython-input-3-800ca82d1755>:77: FutureWarning: The frame.append method is deprecated and will be removed from pandas in a future version. Use pandas.concat instead.\n",
            "  df_metricas = df_metricas.append({'Imagem': nome_imagem, 'Precisão': precisao, 'Recall': reca, 'YoU': iou,'F1_score':f1_s}, ignore_index=True)\n"
          ]
        },
        {
          "output_type": "stream",
          "name": "stdout",
          "text": [
            "Imagem: image-28_sobel.png\n",
            "Precisão: 0.93\n",
            "Recall: 0.93\n",
            "YOU: 0.93\n",
            "F1_score: 0.93\n"
          ]
        },
        {
          "output_type": "stream",
          "name": "stderr",
          "text": [
            "/usr/local/lib/python3.10/dist-packages/sklearn/preprocessing/_label.py:895: UserWarning: unknown class(es) [135, 154, 160, 315, 384, 405, 408, 420, 429, 473, 480, 563, 571, 594, 624, 629, 668] will be ignored\n",
            "  warnings.warn(\n",
            "<ipython-input-3-800ca82d1755>:77: FutureWarning: The frame.append method is deprecated and will be removed from pandas in a future version. Use pandas.concat instead.\n",
            "  df_metricas = df_metricas.append({'Imagem': nome_imagem, 'Precisão': precisao, 'Recall': reca, 'YoU': iou,'F1_score':f1_s}, ignore_index=True)\n",
            "/usr/local/lib/python3.10/dist-packages/sklearn/preprocessing/_label.py:895: UserWarning: unknown class(es) [125, 16, 160, 168, 183, 192, 243, 260, 279, 313, 509, 579, 632, 688, 88] will be ignored\n",
            "  warnings.warn(\n",
            "<ipython-input-3-800ca82d1755>:77: FutureWarning: The frame.append method is deprecated and will be removed from pandas in a future version. Use pandas.concat instead.\n",
            "  df_metricas = df_metricas.append({'Imagem': nome_imagem, 'Precisão': precisao, 'Recall': reca, 'YoU': iou,'F1_score':f1_s}, ignore_index=True)\n"
          ]
        },
        {
          "output_type": "stream",
          "name": "stdout",
          "text": [
            "Imagem: image-105_sobel.png\n",
            "Precisão: 0.85\n",
            "Recall: 0.85\n",
            "YOU: 0.85\n",
            "F1_score: 0.85\n",
            "Imagem: image-2_sobel.png\n",
            "Precisão: 0.82\n",
            "Recall: 0.82\n",
            "YOU: 0.82\n",
            "F1_score: 0.82\n"
          ]
        },
        {
          "output_type": "stream",
          "name": "stderr",
          "text": [
            "/usr/local/lib/python3.10/dist-packages/sklearn/preprocessing/_label.py:895: UserWarning: unknown class(es) [151, 159, 36, 380, 389, 447, 452, 534, 560, 572, 603, 638, 668, 678, 724] will be ignored\n",
            "  warnings.warn(\n",
            "<ipython-input-3-800ca82d1755>:77: FutureWarning: The frame.append method is deprecated and will be removed from pandas in a future version. Use pandas.concat instead.\n",
            "  df_metricas = df_metricas.append({'Imagem': nome_imagem, 'Precisão': precisao, 'Recall': reca, 'YoU': iou,'F1_score':f1_s}, ignore_index=True)\n"
          ]
        },
        {
          "output_type": "stream",
          "name": "stdout",
          "text": [
            "Imagem: image-45_sobel.png\n",
            "Precisão: 0.89\n",
            "Recall: 0.86\n",
            "YOU: 0.86\n",
            "F1_score: 0.87\n"
          ]
        },
        {
          "output_type": "stream",
          "name": "stderr",
          "text": [
            "/usr/local/lib/python3.10/dist-packages/sklearn/preprocessing/_label.py:895: UserWarning: unknown class(es) [151, 182, 403, 482, 526, 538, 578, 593, 595, 609, 616, 619, 710, 715, 719] will be ignored\n",
            "  warnings.warn(\n",
            "<ipython-input-3-800ca82d1755>:77: FutureWarning: The frame.append method is deprecated and will be removed from pandas in a future version. Use pandas.concat instead.\n",
            "  df_metricas = df_metricas.append({'Imagem': nome_imagem, 'Precisão': precisao, 'Recall': reca, 'YoU': iou,'F1_score':f1_s}, ignore_index=True)\n"
          ]
        },
        {
          "output_type": "stream",
          "name": "stdout",
          "text": [
            "Imagem: image-14_sobel.png\n",
            "Precisão: 0.88\n",
            "Recall: 0.88\n",
            "YOU: 0.88\n",
            "F1_score: 0.88\n"
          ]
        },
        {
          "output_type": "stream",
          "name": "stderr",
          "text": [
            "/usr/local/lib/python3.10/dist-packages/sklearn/preprocessing/_label.py:895: UserWarning: unknown class(es) [219, 262, 293] will be ignored\n",
            "  warnings.warn(\n",
            "<ipython-input-3-800ca82d1755>:77: FutureWarning: The frame.append method is deprecated and will be removed from pandas in a future version. Use pandas.concat instead.\n",
            "  df_metricas = df_metricas.append({'Imagem': nome_imagem, 'Precisão': precisao, 'Recall': reca, 'YoU': iou,'F1_score':f1_s}, ignore_index=True)\n",
            "/usr/local/lib/python3.10/dist-packages/sklearn/preprocessing/_label.py:895: UserWarning: unknown class(es) [101, 167, 315, 418, 493, 619, 687] will be ignored\n",
            "  warnings.warn(\n"
          ]
        },
        {
          "output_type": "stream",
          "name": "stdout",
          "text": [
            "Imagem: image-104_sobel.png\n",
            "Precisão: 0.95\n",
            "Recall: 0.95\n",
            "YOU: 0.95\n",
            "F1_score: 0.95\n"
          ]
        },
        {
          "output_type": "stream",
          "name": "stderr",
          "text": [
            "<ipython-input-3-800ca82d1755>:77: FutureWarning: The frame.append method is deprecated and will be removed from pandas in a future version. Use pandas.concat instead.\n",
            "  df_metricas = df_metricas.append({'Imagem': nome_imagem, 'Precisão': precisao, 'Recall': reca, 'YoU': iou,'F1_score':f1_s}, ignore_index=True)\n"
          ]
        },
        {
          "output_type": "stream",
          "name": "stdout",
          "text": [
            "Imagem: image-1_sobel.png\n",
            "Precisão: 0.91\n",
            "Recall: 0.91\n",
            "YOU: 0.91\n",
            "F1_score: 0.91\n"
          ]
        },
        {
          "output_type": "stream",
          "name": "stderr",
          "text": [
            "/usr/local/lib/python3.10/dist-packages/sklearn/preprocessing/_label.py:895: UserWarning: unknown class(es) [153, 250, 254, 29, 354, 36, 365, 396, 398, 411, 45, 465, 53] will be ignored\n",
            "  warnings.warn(\n",
            "<ipython-input-3-800ca82d1755>:77: FutureWarning: The frame.append method is deprecated and will be removed from pandas in a future version. Use pandas.concat instead.\n",
            "  df_metricas = df_metricas.append({'Imagem': nome_imagem, 'Precisão': precisao, 'Recall': reca, 'YoU': iou,'F1_score':f1_s}, ignore_index=True)\n"
          ]
        },
        {
          "output_type": "stream",
          "name": "stdout",
          "text": [
            "Imagem: image-95_sobel.png\n",
            "Precisão: 0.88\n",
            "Recall: 0.88\n",
            "YOU: 0.88\n",
            "F1_score: 0.88\n"
          ]
        },
        {
          "output_type": "stream",
          "name": "stderr",
          "text": [
            "/usr/local/lib/python3.10/dist-packages/sklearn/preprocessing/_label.py:895: UserWarning: unknown class(es) [155, 17, 222, 316, 539, 607, 616, 626] will be ignored\n",
            "  warnings.warn(\n",
            "<ipython-input-3-800ca82d1755>:77: FutureWarning: The frame.append method is deprecated and will be removed from pandas in a future version. Use pandas.concat instead.\n",
            "  df_metricas = df_metricas.append({'Imagem': nome_imagem, 'Precisão': precisao, 'Recall': reca, 'YoU': iou,'F1_score':f1_s}, ignore_index=True)\n"
          ]
        },
        {
          "output_type": "stream",
          "name": "stdout",
          "text": [
            "Imagem: image-55_sobel.png\n",
            "Precisão: 0.92\n",
            "Recall: 0.92\n",
            "YOU: 0.92\n",
            "F1_score: 0.92\n"
          ]
        },
        {
          "output_type": "stream",
          "name": "stderr",
          "text": [
            "/usr/local/lib/python3.10/dist-packages/sklearn/preprocessing/_label.py:895: UserWarning: unknown class(es) [229, 235, 24, 242, 539, 540, 553] will be ignored\n",
            "  warnings.warn(\n",
            "<ipython-input-3-800ca82d1755>:77: FutureWarning: The frame.append method is deprecated and will be removed from pandas in a future version. Use pandas.concat instead.\n",
            "  df_metricas = df_metricas.append({'Imagem': nome_imagem, 'Precisão': precisao, 'Recall': reca, 'YoU': iou,'F1_score':f1_s}, ignore_index=True)\n"
          ]
        },
        {
          "output_type": "stream",
          "name": "stdout",
          "text": [
            "Imagem: image-94_sobel.png\n",
            "Precisão: 0.90\n",
            "Recall: 0.90\n",
            "YOU: 0.90\n",
            "F1_score: 0.90\n"
          ]
        },
        {
          "output_type": "stream",
          "name": "stderr",
          "text": [
            "/usr/local/lib/python3.10/dist-packages/sklearn/preprocessing/_label.py:895: UserWarning: unknown class(es) [106, 167, 170, 182, 194, 412, 465, 480, 498, 564, 585, 645, 692, 699, 725] will be ignored\n",
            "  warnings.warn(\n",
            "<ipython-input-3-800ca82d1755>:77: FutureWarning: The frame.append method is deprecated and will be removed from pandas in a future version. Use pandas.concat instead.\n",
            "  df_metricas = df_metricas.append({'Imagem': nome_imagem, 'Precisão': precisao, 'Recall': reca, 'YoU': iou,'F1_score':f1_s}, ignore_index=True)\n"
          ]
        },
        {
          "output_type": "stream",
          "name": "stdout",
          "text": [
            "Imagem: image-43_sobel.png\n",
            "Precisão: 0.85\n",
            "Recall: 0.85\n",
            "YOU: 0.85\n",
            "F1_score: 0.85\n"
          ]
        },
        {
          "output_type": "stream",
          "name": "stderr",
          "text": [
            "/usr/local/lib/python3.10/dist-packages/sklearn/preprocessing/_label.py:895: UserWarning: unknown class(es) [304, 324, 370, 374] will be ignored\n",
            "  warnings.warn(\n"
          ]
        },
        {
          "output_type": "stream",
          "name": "stdout",
          "text": [
            "Imagem: image-89_sobel.png\n",
            "Precisão: 0.94\n",
            "Recall: 0.94\n",
            "YOU: 0.94\n",
            "F1_score: 0.94\n",
            "Métricas médias:\n",
            "-----------------\n",
            "Precisão: 0.90\n",
            "Revocação: 0.90\n",
            "YoU: 0.90\n",
            "F1_score: 0.90\n",
            "<class 'numpy.ndarray'>\n"
          ]
        },
        {
          "output_type": "stream",
          "name": "stderr",
          "text": [
            "<ipython-input-3-800ca82d1755>:77: FutureWarning: The frame.append method is deprecated and will be removed from pandas in a future version. Use pandas.concat instead.\n",
            "  df_metricas = df_metricas.append({'Imagem': nome_imagem, 'Precisão': precisao, 'Recall': reca, 'YoU': iou,'F1_score':f1_s}, ignore_index=True)\n",
            "<ipython-input-3-800ca82d1755>:91: FutureWarning: The default value of numeric_only in DataFrame.mean is deprecated. In a future version, it will default to False. In addition, specifying 'numeric_only=None' is deprecated. Select only valid columns or specify the value of numeric_only to silence this warning.\n",
            "  medias_metricas = df_metricas.mean()\n"
          ]
        }
      ]
    }
  ]
}